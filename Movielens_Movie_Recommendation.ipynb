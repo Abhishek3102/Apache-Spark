{
  "nbformat": 4,
  "nbformat_minor": 0,
  "metadata": {
    "colab": {
      "provenance": [],
      "authorship_tag": "ABX9TyMPRUXXfXbMnC2xAjLyiAZR",
      "include_colab_link": true
    },
    "kernelspec": {
      "name": "python3",
      "display_name": "Python 3"
    },
    "language_info": {
      "name": "python"
    }
  },
  "cells": [
    {
      "cell_type": "markdown",
      "metadata": {
        "id": "view-in-github",
        "colab_type": "text"
      },
      "source": [
        "<a href=\"https://colab.research.google.com/github/Abhishek3102/Apache-Spark/blob/main/Movielens_Movie_Recommendation.ipynb\" target=\"_parent\"><img src=\"https://colab.research.google.com/assets/colab-badge.svg\" alt=\"Open In Colab\"/></a>"
      ]
    },
    {
      "cell_type": "markdown",
      "source": [
        "#Collaborative Filtering: Alternating Least Squares(ALS)"
      ],
      "metadata": {
        "id": "klPfPNf59fou"
      }
    },
    {
      "cell_type": "code",
      "execution_count": 1,
      "metadata": {
        "colab": {
          "base_uri": "https://localhost:8080/"
        },
        "id": "fvgpvrhV9Iir",
        "outputId": "636165ae-023e-4a70-e767-36e61825b812"
      },
      "outputs": [
        {
          "output_type": "stream",
          "name": "stdout",
          "text": [
            "Requirement already satisfied: pyspark in /usr/local/lib/python3.10/dist-packages (3.5.3)\n",
            "Requirement already satisfied: py4j==0.10.9.7 in /usr/local/lib/python3.10/dist-packages (from pyspark) (0.10.9.7)\n"
          ]
        }
      ],
      "source": [
        "!pip install pyspark"
      ]
    },
    {
      "cell_type": "code",
      "source": [
        "from pyspark.sql import SparkSession\n",
        "spark = SparkSession.builder.appName(\"Movie Recommender\").getOrCreate()\n",
        "spark"
      ],
      "metadata": {
        "colab": {
          "base_uri": "https://localhost:8080/",
          "height": 222
        },
        "id": "X8WYiShj_tcV",
        "outputId": "4760d93a-3e11-4cda-d1e0-486539b23205"
      },
      "execution_count": 2,
      "outputs": [
        {
          "output_type": "execute_result",
          "data": {
            "text/plain": [
              "<pyspark.sql.session.SparkSession at 0x797361228220>"
            ],
            "text/html": [
              "\n",
              "            <div>\n",
              "                <p><b>SparkSession - in-memory</b></p>\n",
              "                \n",
              "        <div>\n",
              "            <p><b>SparkContext</b></p>\n",
              "\n",
              "            <p><a href=\"http://12faf1614966:4040\">Spark UI</a></p>\n",
              "\n",
              "            <dl>\n",
              "              <dt>Version</dt>\n",
              "                <dd><code>v3.5.3</code></dd>\n",
              "              <dt>Master</dt>\n",
              "                <dd><code>local[*]</code></dd>\n",
              "              <dt>AppName</dt>\n",
              "                <dd><code>Movie Recommender</code></dd>\n",
              "            </dl>\n",
              "        </div>\n",
              "        \n",
              "            </div>\n",
              "        "
            ]
          },
          "metadata": {},
          "execution_count": 2
        }
      ]
    },
    {
      "cell_type": "code",
      "source": [
        "from pyspark.ml.evaluation import RegressionEvaluator\n",
        "from pyspark.ml.recommendation import ALS"
      ],
      "metadata": {
        "id": "HyDFI8d5AJkY"
      },
      "execution_count": 3,
      "outputs": []
    },
    {
      "cell_type": "code",
      "source": [
        "movie = spark.read.csv(\"movies.csv\", inferSchema=True, header=True)\n",
        "rating = spark.read.csv(\"ratings.csv\", inferSchema=True, header=True)"
      ],
      "metadata": {
        "id": "C19GYslNAfaK"
      },
      "execution_count": 4,
      "outputs": []
    },
    {
      "cell_type": "code",
      "source": [
        "joined_df = movie.join(rating, on=\"movieId\", how=\"inner\")\n",
        "joined_df.show()"
      ],
      "metadata": {
        "colab": {
          "base_uri": "https://localhost:8080/"
        },
        "id": "qOApYly7C_ox",
        "outputId": "6941bb04-4c98-436b-93b2-957f0dd2e429"
      },
      "execution_count": 9,
      "outputs": [
        {
          "output_type": "stream",
          "name": "stdout",
          "text": [
            "+-------+--------------------+--------------------+------+------+---------+\n",
            "|movieId|               title|              genres|userId|rating|timestamp|\n",
            "+-------+--------------------+--------------------+------+------+---------+\n",
            "|      1|    Toy Story (1995)|Adventure|Animati...|     1|   4.0|964982703|\n",
            "|      3|Grumpier Old Men ...|      Comedy|Romance|     1|   4.0|964981247|\n",
            "|      6|         Heat (1995)|Action|Crime|Thri...|     1|   4.0|964982224|\n",
            "|     47|Seven (a.k.a. Se7...|    Mystery|Thriller|     1|   5.0|964983815|\n",
            "|     50|Usual Suspects, T...|Crime|Mystery|Thr...|     1|   5.0|964982931|\n",
            "|     70|From Dusk Till Da...|Action|Comedy|Hor...|     1|   3.0|964982400|\n",
            "|    101|Bottle Rocket (1996)|Adventure|Comedy|...|     1|   5.0|964980868|\n",
            "|    110|   Braveheart (1995)|    Action|Drama|War|     1|   4.0|964982176|\n",
            "|    151|      Rob Roy (1995)|Action|Drama|Roma...|     1|   5.0|964984041|\n",
            "|    157|Canadian Bacon (1...|          Comedy|War|     1|   5.0|964984100|\n",
            "|    163|    Desperado (1995)|Action|Romance|We...|     1|   5.0|964983650|\n",
            "|    216|Billy Madison (1995)|              Comedy|     1|   5.0|964981208|\n",
            "|    223|       Clerks (1994)|              Comedy|     1|   3.0|964980985|\n",
            "|    231|Dumb & Dumber (Du...|    Adventure|Comedy|     1|   5.0|964981179|\n",
            "|    235|      Ed Wood (1994)|        Comedy|Drama|     1|   4.0|964980908|\n",
            "|    260|Star Wars: Episod...|Action|Adventure|...|     1|   5.0|964981680|\n",
            "|    296| Pulp Fiction (1994)|Comedy|Crime|Dram...|     1|   3.0|964982967|\n",
            "|    316|     Stargate (1994)|Action|Adventure|...|     1|   3.0|964982310|\n",
            "|    333|    Tommy Boy (1995)|              Comedy|     1|   5.0|964981179|\n",
            "|    349|Clear and Present...|Action|Crime|Dram...|     1|   4.0|964982563|\n",
            "+-------+--------------------+--------------------+------+------+---------+\n",
            "only showing top 20 rows\n",
            "\n"
          ]
        }
      ]
    },
    {
      "cell_type": "code",
      "source": [
        "joined_df.write.option(\"header\", \"true\").csv(\"movie_ratings.csv\")"
      ],
      "metadata": {
        "id": "SMyeiMavEV8x"
      },
      "execution_count": 10,
      "outputs": []
    },
    {
      "cell_type": "code",
      "source": [
        "joined_df.describe().show()"
      ],
      "metadata": {
        "colab": {
          "base_uri": "https://localhost:8080/"
        },
        "id": "rQfdxbaeDpGK",
        "outputId": "091c0f69-423f-40dc-971b-a6075f93cb77"
      },
      "execution_count": 11,
      "outputs": [
        {
          "output_type": "stream",
          "name": "stdout",
          "text": [
            "+-------+----------------+--------------------+------------------+------------------+------------------+--------------------+\n",
            "|summary|         movieId|               title|            genres|            userId|            rating|           timestamp|\n",
            "+-------+----------------+--------------------+------------------+------------------+------------------+--------------------+\n",
            "|  count|          100836|              100836|            100836|            100836|            100836|              100836|\n",
            "|   mean|19435.2957177992|                NULL|              NULL|326.12756356856676| 3.501556983616962|1.2059460873684695E9|\n",
            "| stddev|35530.9871987003|                NULL|              NULL| 182.6184914635004|1.0425292390606342|2.1626103599513078E8|\n",
            "|    min|               1|\"11'09\"\"01 - Sept...|(no genres listed)|                 1|               0.5|           828124615|\n",
            "|    max|          193609|À nous la liberté...|           Western|               610|               5.0|          1537799250|\n",
            "+-------+----------------+--------------------+------------------+------------------+------------------+--------------------+\n",
            "\n"
          ]
        }
      ]
    },
    {
      "cell_type": "code",
      "source": [
        "(train, test) = joined_df.randomSplit([0.75,0.25], seed=42)"
      ],
      "metadata": {
        "id": "4w-MKtITFG1C"
      },
      "execution_count": 13,
      "outputs": []
    },
    {
      "cell_type": "code",
      "source": [
        "als = ALS(maxIter=5, regParam=0.01, userCol=\"userId\", itemCol=\"movieId\", ratingCol=\"rating\")"
      ],
      "metadata": {
        "id": "SVMJlED7NXBs"
      },
      "execution_count": 16,
      "outputs": []
    },
    {
      "cell_type": "code",
      "source": [
        "model = als.fit(train)"
      ],
      "metadata": {
        "id": "W-A2zpv2OJa3"
      },
      "execution_count": 17,
      "outputs": []
    },
    {
      "cell_type": "code",
      "source": [
        "pred = model.transform(test)"
      ],
      "metadata": {
        "id": "HqQVEnmyOM9a"
      },
      "execution_count": 18,
      "outputs": []
    },
    {
      "cell_type": "code",
      "source": [
        "pred.show()"
      ],
      "metadata": {
        "colab": {
          "base_uri": "https://localhost:8080/"
        },
        "id": "TMznuc6rOcqC",
        "outputId": "4e1d8d46-112f-4960-c5fa-150189630d0f"
      },
      "execution_count": 19,
      "outputs": [
        {
          "output_type": "stream",
          "name": "stdout",
          "text": [
            "+-------+----------------+--------------------+------+------+----------+----------+\n",
            "|movieId|           title|              genres|userId|rating| timestamp|prediction|\n",
            "+-------+----------------+--------------------+------+------+----------+----------+\n",
            "|      1|Toy Story (1995)|Adventure|Animati...|     7|   4.5|1106635946| 4.0000734|\n",
            "|      1|Toy Story (1995)|Adventure|Animati...|    19|   4.0| 965705637|  2.990016|\n",
            "|      1|Toy Story (1995)|Adventure|Animati...|    27|   3.0| 962685262| 4.3860087|\n",
            "|      1|Toy Story (1995)|Adventure|Animati...|    31|   5.0| 850466616| 4.4407334|\n",
            "|      1|Toy Story (1995)|Adventure|Animati...|    43|   5.0| 848993983| 5.4907837|\n",
            "|      1|Toy Story (1995)|Adventure|Animati...|    57|   5.0| 965796031| 3.1829302|\n",
            "|      1|Toy Story (1995)|Adventure|Animati...|    68|   2.5|1158531426| 3.2992108|\n",
            "|      1|Toy Story (1995)|Adventure|Animati...|    86|   4.0|1344082549|  4.428684|\n",
            "|      1|Toy Story (1995)|Adventure|Animati...|    89|   3.0|1520408314| 1.5465015|\n",
            "|      1|Toy Story (1995)|Adventure|Animati...|    91|   4.0|1112713037| 3.6008847|\n",
            "|      1|Toy Story (1995)|Adventure|Animati...|    96|   5.0| 964772990| 4.0413446|\n",
            "|      1|Toy Story (1995)|Adventure|Animati...|    98|   4.5|1532457849|  4.856791|\n",
            "|      1|Toy Story (1995)|Adventure|Animati...|   130|   3.0| 832589610|  4.020912|\n",
            "|      1|Toy Story (1995)|Adventure|Animati...|   135|   4.0|1009691859| 3.9285085|\n",
            "|      1|Toy Story (1995)|Adventure|Animati...|   137|   4.0|1204859907| 2.9135952|\n",
            "|      1|Toy Story (1995)|Adventure|Animati...|   140|   3.0| 942924980| 3.5091045|\n",
            "|      1|Toy Story (1995)|Adventure|Animati...|   144|   3.5|1137323419|  4.422765|\n",
            "|      1|Toy Story (1995)|Adventure|Animati...|   151|   5.0| 855947195| 3.8039641|\n",
            "|      1|Toy Story (1995)|Adventure|Animati...|   159|   4.5|1508640172|  3.703335|\n",
            "|      1|Toy Story (1995)|Adventure|Animati...|   177|   5.0|1435533535| 4.2849593|\n",
            "+-------+----------------+--------------------+------+------+----------+----------+\n",
            "only showing top 20 rows\n",
            "\n"
          ]
        }
      ]
    },
    {
      "cell_type": "code",
      "source": [
        "pred = pred.dropna(subset=[\"rating\", \"prediction\"])"
      ],
      "metadata": {
        "id": "6iKpbL1iPk9b"
      },
      "execution_count": 21,
      "outputs": []
    },
    {
      "cell_type": "code",
      "source": [
        "eval = RegressionEvaluator(metricName=\"rmse\", labelCol=\"rating\", predictionCol=\"prediction\")\n",
        "rmse = eval.evaluate(pred)\n",
        "print(f\"RMSE: {rmse}\")"
      ],
      "metadata": {
        "colab": {
          "base_uri": "https://localhost:8080/"
        },
        "id": "Mkd-5UxJOeip",
        "outputId": "0e6fe212-5aef-4de2-8054-b1403eb89d88"
      },
      "execution_count": 22,
      "outputs": [
        {
          "output_type": "stream",
          "name": "stdout",
          "text": [
            "RMSE: 1.1030448804803894\n"
          ]
        }
      ]
    },
    {
      "cell_type": "code",
      "source": [
        "user = input(\"Enter user ID: \")\n",
        "entered_user = test.filter(test[\"userId\"] == user).select([\"movieId\", \"userId\", \"rating\", \"title\", \"genres\"])\n",
        "entered_user_sorted = entered_user.orderBy(\"rating\", ascending=False)\n",
        "entered_user_sorted.show()"
      ],
      "metadata": {
        "colab": {
          "base_uri": "https://localhost:8080/"
        },
        "id": "Gnx37b12PHpl",
        "outputId": "c6d63a17-ee07-4a05-c932-e3ddc101f13b"
      },
      "execution_count": 32,
      "outputs": [
        {
          "output_type": "stream",
          "name": "stdout",
          "text": [
            "Enter user ID: 16\n",
            "+-------+------+------+--------------------+--------------------+\n",
            "|movieId|userId|rating|               title|              genres|\n",
            "+-------+------+------+--------------------+--------------------+\n",
            "|    111|    16|   4.5|  Taxi Driver (1976)|Crime|Drama|Thriller|\n",
            "|    541|    16|   4.5| Blade Runner (1982)|Action|Sci-Fi|Thr...|\n",
            "|    608|    16|   4.5|        Fargo (1996)|Comedy|Crime|Dram...|\n",
            "|   5618|    16|   4.5|Spirited Away (Se...|Adventure|Animati...|\n",
            "|     50|    16|   4.0|Usual Suspects, T...|Crime|Mystery|Thr...|\n",
            "|    319|    16|   4.0|Shallow Grave (1994)|Comedy|Drama|Thri...|\n",
            "|   1207|    16|   4.0|To Kill a Mocking...|               Drama|\n",
            "|   3741|    16|   4.0|     Badlands (1973)|Crime|Drama|Thriller|\n",
            "|   5971|    16|   4.0|My Neighbor Totor...|Animation|Childre...|\n",
            "|    923|    16|   3.5| Citizen Kane (1941)|       Drama|Mystery|\n",
            "|   1186|    16|   3.5|Sex, Lies, and Vi...|               Drama|\n",
            "|   1680|    16|   3.5|Sliding Doors (1998)|       Drama|Romance|\n",
            "|   2707|    16|   3.5|Arlington Road (1...|            Thriller|\n",
            "|   3022|    16|   3.5| General, The (1926)|          Comedy|War|\n",
            "|   4993|    16|   3.5|Lord of the Rings...|   Adventure|Fantasy|\n",
            "|    260|    16|   3.0|Star Wars: Episod...|Action|Adventure|...|\n",
            "|    296|    16|   3.0| Pulp Fiction (1994)|Comedy|Crime|Dram...|\n",
            "|   1188|    16|   2.5|Strictly Ballroom...|      Comedy|Romance|\n",
            "+-------+------+------+--------------------+--------------------+\n",
            "\n"
          ]
        }
      ]
    }
  ]
}