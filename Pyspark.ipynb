{
  "nbformat": 4,
  "nbformat_minor": 0,
  "metadata": {
    "colab": {
      "provenance": [],
      "authorship_tag": "ABX9TyOgF/NJHftDGriJYM0YfyaP",
      "include_colab_link": true
    },
    "kernelspec": {
      "name": "python3",
      "display_name": "Python 3"
    },
    "language_info": {
      "name": "python"
    }
  },
  "cells": [
    {
      "cell_type": "markdown",
      "metadata": {
        "id": "view-in-github",
        "colab_type": "text"
      },
      "source": [
        "<a href=\"https://colab.research.google.com/github/Abhishek3102/Apache-Spark/blob/main/Pyspark.ipynb\" target=\"_parent\"><img src=\"https://colab.research.google.com/assets/colab-badge.svg\" alt=\"Open In Colab\"/></a>"
      ]
    },
    {
      "cell_type": "code",
      "execution_count": 1,
      "metadata": {
        "colab": {
          "base_uri": "https://localhost:8080/"
        },
        "id": "2jQCe3z_EPoI",
        "outputId": "adb084a0-6464-4663-f9e5-57622b05893f"
      },
      "outputs": [
        {
          "output_type": "stream",
          "name": "stdout",
          "text": [
            "Requirement already satisfied: pyspark in /usr/local/lib/python3.10/dist-packages (3.5.3)\n",
            "Requirement already satisfied: py4j==0.10.9.7 in /usr/local/lib/python3.10/dist-packages (from pyspark) (0.10.9.7)\n"
          ]
        }
      ],
      "source": [
        "!pip install pyspark"
      ]
    },
    {
      "cell_type": "code",
      "source": [
        "import pyspark\n",
        "import pandas as pd"
      ],
      "metadata": {
        "id": "cz-hmuoQE5GW"
      },
      "execution_count": 2,
      "outputs": []
    },
    {
      "cell_type": "code",
      "source": [
        "df = pd.read_csv(\"/content/Rainfall.csv\")\n",
        "df.head(3)"
      ],
      "metadata": {
        "colab": {
          "base_uri": "https://localhost:8080/",
          "height": 143
        },
        "id": "k620YMAKFJ2n",
        "outputId": "b2978fc6-51dd-4d67-e81e-281215ec69cc"
      },
      "execution_count": 3,
      "outputs": [
        {
          "output_type": "execute_result",
          "data": {
            "text/plain": [
              "   day  pressure   maxtemp  temparature  mintemp  dewpoint  humidity   cloud   \\\n",
              "0    1     1025.9     19.9         18.3     16.8      13.1         72      49   \n",
              "1    2     1022.0     21.7         18.9     17.2      15.6         81      83   \n",
              "2    3     1019.7     20.3         19.3     18.0      18.4         95      91   \n",
              "\n",
              "  rainfall  sunshine           winddirection  windspeed  \n",
              "0      yes       9.3                    80.0       26.3  \n",
              "1      yes       0.6                    50.0       15.3  \n",
              "2      yes       0.0                    40.0       14.2  "
            ],
            "text/html": [
              "\n",
              "  <div id=\"df-b1753496-ba57-4cbe-b139-088df2cc6436\" class=\"colab-df-container\">\n",
              "    <div>\n",
              "<style scoped>\n",
              "    .dataframe tbody tr th:only-of-type {\n",
              "        vertical-align: middle;\n",
              "    }\n",
              "\n",
              "    .dataframe tbody tr th {\n",
              "        vertical-align: top;\n",
              "    }\n",
              "\n",
              "    .dataframe thead th {\n",
              "        text-align: right;\n",
              "    }\n",
              "</style>\n",
              "<table border=\"1\" class=\"dataframe\">\n",
              "  <thead>\n",
              "    <tr style=\"text-align: right;\">\n",
              "      <th></th>\n",
              "      <th>day</th>\n",
              "      <th>pressure</th>\n",
              "      <th>maxtemp</th>\n",
              "      <th>temparature</th>\n",
              "      <th>mintemp</th>\n",
              "      <th>dewpoint</th>\n",
              "      <th>humidity</th>\n",
              "      <th>cloud</th>\n",
              "      <th>rainfall</th>\n",
              "      <th>sunshine</th>\n",
              "      <th>winddirection</th>\n",
              "      <th>windspeed</th>\n",
              "    </tr>\n",
              "  </thead>\n",
              "  <tbody>\n",
              "    <tr>\n",
              "      <th>0</th>\n",
              "      <td>1</td>\n",
              "      <td>1025.9</td>\n",
              "      <td>19.9</td>\n",
              "      <td>18.3</td>\n",
              "      <td>16.8</td>\n",
              "      <td>13.1</td>\n",
              "      <td>72</td>\n",
              "      <td>49</td>\n",
              "      <td>yes</td>\n",
              "      <td>9.3</td>\n",
              "      <td>80.0</td>\n",
              "      <td>26.3</td>\n",
              "    </tr>\n",
              "    <tr>\n",
              "      <th>1</th>\n",
              "      <td>2</td>\n",
              "      <td>1022.0</td>\n",
              "      <td>21.7</td>\n",
              "      <td>18.9</td>\n",
              "      <td>17.2</td>\n",
              "      <td>15.6</td>\n",
              "      <td>81</td>\n",
              "      <td>83</td>\n",
              "      <td>yes</td>\n",
              "      <td>0.6</td>\n",
              "      <td>50.0</td>\n",
              "      <td>15.3</td>\n",
              "    </tr>\n",
              "    <tr>\n",
              "      <th>2</th>\n",
              "      <td>3</td>\n",
              "      <td>1019.7</td>\n",
              "      <td>20.3</td>\n",
              "      <td>19.3</td>\n",
              "      <td>18.0</td>\n",
              "      <td>18.4</td>\n",
              "      <td>95</td>\n",
              "      <td>91</td>\n",
              "      <td>yes</td>\n",
              "      <td>0.0</td>\n",
              "      <td>40.0</td>\n",
              "      <td>14.2</td>\n",
              "    </tr>\n",
              "  </tbody>\n",
              "</table>\n",
              "</div>\n",
              "    <div class=\"colab-df-buttons\">\n",
              "\n",
              "  <div class=\"colab-df-container\">\n",
              "    <button class=\"colab-df-convert\" onclick=\"convertToInteractive('df-b1753496-ba57-4cbe-b139-088df2cc6436')\"\n",
              "            title=\"Convert this dataframe to an interactive table.\"\n",
              "            style=\"display:none;\">\n",
              "\n",
              "  <svg xmlns=\"http://www.w3.org/2000/svg\" height=\"24px\" viewBox=\"0 -960 960 960\">\n",
              "    <path d=\"M120-120v-720h720v720H120Zm60-500h600v-160H180v160Zm220 220h160v-160H400v160Zm0 220h160v-160H400v160ZM180-400h160v-160H180v160Zm440 0h160v-160H620v160ZM180-180h160v-160H180v160Zm440 0h160v-160H620v160Z\"/>\n",
              "  </svg>\n",
              "    </button>\n",
              "\n",
              "  <style>\n",
              "    .colab-df-container {\n",
              "      display:flex;\n",
              "      gap: 12px;\n",
              "    }\n",
              "\n",
              "    .colab-df-convert {\n",
              "      background-color: #E8F0FE;\n",
              "      border: none;\n",
              "      border-radius: 50%;\n",
              "      cursor: pointer;\n",
              "      display: none;\n",
              "      fill: #1967D2;\n",
              "      height: 32px;\n",
              "      padding: 0 0 0 0;\n",
              "      width: 32px;\n",
              "    }\n",
              "\n",
              "    .colab-df-convert:hover {\n",
              "      background-color: #E2EBFA;\n",
              "      box-shadow: 0px 1px 2px rgba(60, 64, 67, 0.3), 0px 1px 3px 1px rgba(60, 64, 67, 0.15);\n",
              "      fill: #174EA6;\n",
              "    }\n",
              "\n",
              "    .colab-df-buttons div {\n",
              "      margin-bottom: 4px;\n",
              "    }\n",
              "\n",
              "    [theme=dark] .colab-df-convert {\n",
              "      background-color: #3B4455;\n",
              "      fill: #D2E3FC;\n",
              "    }\n",
              "\n",
              "    [theme=dark] .colab-df-convert:hover {\n",
              "      background-color: #434B5C;\n",
              "      box-shadow: 0px 1px 3px 1px rgba(0, 0, 0, 0.15);\n",
              "      filter: drop-shadow(0px 1px 2px rgba(0, 0, 0, 0.3));\n",
              "      fill: #FFFFFF;\n",
              "    }\n",
              "  </style>\n",
              "\n",
              "    <script>\n",
              "      const buttonEl =\n",
              "        document.querySelector('#df-b1753496-ba57-4cbe-b139-088df2cc6436 button.colab-df-convert');\n",
              "      buttonEl.style.display =\n",
              "        google.colab.kernel.accessAllowed ? 'block' : 'none';\n",
              "\n",
              "      async function convertToInteractive(key) {\n",
              "        const element = document.querySelector('#df-b1753496-ba57-4cbe-b139-088df2cc6436');\n",
              "        const dataTable =\n",
              "          await google.colab.kernel.invokeFunction('convertToInteractive',\n",
              "                                                    [key], {});\n",
              "        if (!dataTable) return;\n",
              "\n",
              "        const docLinkHtml = 'Like what you see? Visit the ' +\n",
              "          '<a target=\"_blank\" href=https://colab.research.google.com/notebooks/data_table.ipynb>data table notebook</a>'\n",
              "          + ' to learn more about interactive tables.';\n",
              "        element.innerHTML = '';\n",
              "        dataTable['output_type'] = 'display_data';\n",
              "        await google.colab.output.renderOutput(dataTable, element);\n",
              "        const docLink = document.createElement('div');\n",
              "        docLink.innerHTML = docLinkHtml;\n",
              "        element.appendChild(docLink);\n",
              "      }\n",
              "    </script>\n",
              "  </div>\n",
              "\n",
              "\n",
              "<div id=\"df-cb2baa56-e0c2-4e96-a8c8-73875c15b396\">\n",
              "  <button class=\"colab-df-quickchart\" onclick=\"quickchart('df-cb2baa56-e0c2-4e96-a8c8-73875c15b396')\"\n",
              "            title=\"Suggest charts\"\n",
              "            style=\"display:none;\">\n",
              "\n",
              "<svg xmlns=\"http://www.w3.org/2000/svg\" height=\"24px\"viewBox=\"0 0 24 24\"\n",
              "     width=\"24px\">\n",
              "    <g>\n",
              "        <path d=\"M19 3H5c-1.1 0-2 .9-2 2v14c0 1.1.9 2 2 2h14c1.1 0 2-.9 2-2V5c0-1.1-.9-2-2-2zM9 17H7v-7h2v7zm4 0h-2V7h2v10zm4 0h-2v-4h2v4z\"/>\n",
              "    </g>\n",
              "</svg>\n",
              "  </button>\n",
              "\n",
              "<style>\n",
              "  .colab-df-quickchart {\n",
              "      --bg-color: #E8F0FE;\n",
              "      --fill-color: #1967D2;\n",
              "      --hover-bg-color: #E2EBFA;\n",
              "      --hover-fill-color: #174EA6;\n",
              "      --disabled-fill-color: #AAA;\n",
              "      --disabled-bg-color: #DDD;\n",
              "  }\n",
              "\n",
              "  [theme=dark] .colab-df-quickchart {\n",
              "      --bg-color: #3B4455;\n",
              "      --fill-color: #D2E3FC;\n",
              "      --hover-bg-color: #434B5C;\n",
              "      --hover-fill-color: #FFFFFF;\n",
              "      --disabled-bg-color: #3B4455;\n",
              "      --disabled-fill-color: #666;\n",
              "  }\n",
              "\n",
              "  .colab-df-quickchart {\n",
              "    background-color: var(--bg-color);\n",
              "    border: none;\n",
              "    border-radius: 50%;\n",
              "    cursor: pointer;\n",
              "    display: none;\n",
              "    fill: var(--fill-color);\n",
              "    height: 32px;\n",
              "    padding: 0;\n",
              "    width: 32px;\n",
              "  }\n",
              "\n",
              "  .colab-df-quickchart:hover {\n",
              "    background-color: var(--hover-bg-color);\n",
              "    box-shadow: 0 1px 2px rgba(60, 64, 67, 0.3), 0 1px 3px 1px rgba(60, 64, 67, 0.15);\n",
              "    fill: var(--button-hover-fill-color);\n",
              "  }\n",
              "\n",
              "  .colab-df-quickchart-complete:disabled,\n",
              "  .colab-df-quickchart-complete:disabled:hover {\n",
              "    background-color: var(--disabled-bg-color);\n",
              "    fill: var(--disabled-fill-color);\n",
              "    box-shadow: none;\n",
              "  }\n",
              "\n",
              "  .colab-df-spinner {\n",
              "    border: 2px solid var(--fill-color);\n",
              "    border-color: transparent;\n",
              "    border-bottom-color: var(--fill-color);\n",
              "    animation:\n",
              "      spin 1s steps(1) infinite;\n",
              "  }\n",
              "\n",
              "  @keyframes spin {\n",
              "    0% {\n",
              "      border-color: transparent;\n",
              "      border-bottom-color: var(--fill-color);\n",
              "      border-left-color: var(--fill-color);\n",
              "    }\n",
              "    20% {\n",
              "      border-color: transparent;\n",
              "      border-left-color: var(--fill-color);\n",
              "      border-top-color: var(--fill-color);\n",
              "    }\n",
              "    30% {\n",
              "      border-color: transparent;\n",
              "      border-left-color: var(--fill-color);\n",
              "      border-top-color: var(--fill-color);\n",
              "      border-right-color: var(--fill-color);\n",
              "    }\n",
              "    40% {\n",
              "      border-color: transparent;\n",
              "      border-right-color: var(--fill-color);\n",
              "      border-top-color: var(--fill-color);\n",
              "    }\n",
              "    60% {\n",
              "      border-color: transparent;\n",
              "      border-right-color: var(--fill-color);\n",
              "    }\n",
              "    80% {\n",
              "      border-color: transparent;\n",
              "      border-right-color: var(--fill-color);\n",
              "      border-bottom-color: var(--fill-color);\n",
              "    }\n",
              "    90% {\n",
              "      border-color: transparent;\n",
              "      border-bottom-color: var(--fill-color);\n",
              "    }\n",
              "  }\n",
              "</style>\n",
              "\n",
              "  <script>\n",
              "    async function quickchart(key) {\n",
              "      const quickchartButtonEl =\n",
              "        document.querySelector('#' + key + ' button');\n",
              "      quickchartButtonEl.disabled = true;  // To prevent multiple clicks.\n",
              "      quickchartButtonEl.classList.add('colab-df-spinner');\n",
              "      try {\n",
              "        const charts = await google.colab.kernel.invokeFunction(\n",
              "            'suggestCharts', [key], {});\n",
              "      } catch (error) {\n",
              "        console.error('Error during call to suggestCharts:', error);\n",
              "      }\n",
              "      quickchartButtonEl.classList.remove('colab-df-spinner');\n",
              "      quickchartButtonEl.classList.add('colab-df-quickchart-complete');\n",
              "    }\n",
              "    (() => {\n",
              "      let quickchartButtonEl =\n",
              "        document.querySelector('#df-cb2baa56-e0c2-4e96-a8c8-73875c15b396 button');\n",
              "      quickchartButtonEl.style.display =\n",
              "        google.colab.kernel.accessAllowed ? 'block' : 'none';\n",
              "    })();\n",
              "  </script>\n",
              "</div>\n",
              "\n",
              "    </div>\n",
              "  </div>\n"
            ],
            "application/vnd.google.colaboratory.intrinsic+json": {
              "type": "dataframe",
              "variable_name": "df",
              "summary": "{\n  \"name\": \"df\",\n  \"rows\": 366,\n  \"fields\": [\n    {\n      \"column\": \"day\",\n      \"properties\": {\n        \"dtype\": \"number\",\n        \"std\": 8,\n        \"min\": 1,\n        \"max\": 31,\n        \"num_unique_values\": 31,\n        \"samples\": [\n          28,\n          16,\n          24\n        ],\n        \"semantic_type\": \"\",\n        \"description\": \"\"\n      }\n    },\n    {\n      \"column\": \"pressure \",\n      \"properties\": {\n        \"dtype\": \"number\",\n        \"std\": 6.4147764098954525,\n        \"min\": 998.5,\n        \"max\": 1034.6,\n        \"num_unique_values\": 188,\n        \"samples\": [\n          1016.2,\n          1016.8,\n          1019.6\n        ],\n        \"semantic_type\": \"\",\n        \"description\": \"\"\n      }\n    },\n    {\n      \"column\": \"maxtemp\",\n      \"properties\": {\n        \"dtype\": \"number\",\n        \"std\": 5.978342653428496,\n        \"min\": 7.1,\n        \"max\": 36.3,\n        \"num_unique_values\": 174,\n        \"samples\": [\n          22.1,\n          34.7,\n          28.3\n        ],\n        \"semantic_type\": \"\",\n        \"description\": \"\"\n      }\n    },\n    {\n      \"column\": \"temparature\",\n      \"properties\": {\n        \"dtype\": \"number\",\n        \"std\": 5.632812934538627,\n        \"min\": 4.9,\n        \"max\": 32.4,\n        \"num_unique_values\": 158,\n        \"samples\": [\n          28.6,\n          20.8,\n          32.4\n        ],\n        \"semantic_type\": \"\",\n        \"description\": \"\"\n      }\n    },\n    {\n      \"column\": \"mintemp\",\n      \"properties\": {\n        \"dtype\": \"number\",\n        \"std\": 5.5941527866250516,\n        \"min\": 3.1,\n        \"max\": 30.0,\n        \"num_unique_values\": 157,\n        \"samples\": [\n          24.9,\n          14.0,\n          21.1\n        ],\n        \"semantic_type\": \"\",\n        \"description\": \"\"\n      }\n    },\n    {\n      \"column\": \"dewpoint\",\n      \"properties\": {\n        \"dtype\": \"number\",\n        \"std\": 5.99702124326736,\n        \"min\": -0.4,\n        \"max\": 26.7,\n        \"num_unique_values\": 158,\n        \"samples\": [\n          16.6,\n          13.3,\n          21.7\n        ],\n        \"semantic_type\": \"\",\n        \"description\": \"\"\n      }\n    },\n    {\n      \"column\": \"humidity \",\n      \"properties\": {\n        \"dtype\": \"number\",\n        \"std\": 10,\n        \"min\": 36,\n        \"max\": 98,\n        \"num_unique_values\": 49,\n        \"samples\": [\n          61,\n          56,\n          49\n        ],\n        \"semantic_type\": \"\",\n        \"description\": \"\"\n      }\n    },\n    {\n      \"column\": \"cloud \",\n      \"properties\": {\n        \"dtype\": \"number\",\n        \"std\": 21,\n        \"min\": 0,\n        \"max\": 100,\n        \"num_unique_values\": 79,\n        \"samples\": [\n          76,\n          49,\n          94\n        ],\n        \"semantic_type\": \"\",\n        \"description\": \"\"\n      }\n    },\n    {\n      \"column\": \"rainfall\",\n      \"properties\": {\n        \"dtype\": \"category\",\n        \"num_unique_values\": 2,\n        \"samples\": [\n          \"no\",\n          \"yes\"\n        ],\n        \"semantic_type\": \"\",\n        \"description\": \"\"\n      }\n    },\n    {\n      \"column\": \"sunshine\",\n      \"properties\": {\n        \"dtype\": \"number\",\n        \"std\": 3.9343977512568156,\n        \"min\": 0.0,\n        \"max\": 12.1,\n        \"num_unique_values\": 104,\n        \"samples\": [\n          0.5,\n          4.5\n        ],\n        \"semantic_type\": \"\",\n        \"description\": \"\"\n      }\n    },\n    {\n      \"column\": \"         winddirection\",\n      \"properties\": {\n        \"dtype\": \"number\",\n        \"std\": 81.72372436011264,\n        \"min\": 10.0,\n        \"max\": 350.0,\n        \"num_unique_values\": 31,\n        \"samples\": [\n          290.0,\n          180.0\n        ],\n        \"semantic_type\": \"\",\n        \"description\": \"\"\n      }\n    },\n    {\n      \"column\": \"windspeed\",\n      \"properties\": {\n        \"dtype\": \"number\",\n        \"std\": 10.069711777815353,\n        \"min\": 4.4,\n        \"max\": 59.5,\n        \"num_unique_values\": 223,\n        \"samples\": [\n          37.7,\n          19.6\n        ],\n        \"semantic_type\": \"\",\n        \"description\": \"\"\n      }\n    }\n  ]\n}"
            }
          },
          "metadata": {},
          "execution_count": 3
        }
      ]
    },
    {
      "cell_type": "code",
      "source": [
        "type(df)"
      ],
      "metadata": {
        "colab": {
          "base_uri": "https://localhost:8080/",
          "height": 203
        },
        "id": "sqxhfYqBHOh9",
        "outputId": "765e9fa2-f90e-45bb-9f3d-ad6d5ac5f2a3"
      },
      "execution_count": 4,
      "outputs": [
        {
          "output_type": "execute_result",
          "data": {
            "text/plain": [
              "pandas.core.frame.DataFrame"
            ],
            "text/html": [
              "<div style=\"max-width:800px; border: 1px solid var(--colab-border-color);\"><style>\n",
              "      pre.function-repr-contents {\n",
              "        overflow-x: auto;\n",
              "        padding: 8px 12px;\n",
              "        max-height: 500px;\n",
              "      }\n",
              "\n",
              "      pre.function-repr-contents.function-repr-contents-collapsed {\n",
              "        cursor: pointer;\n",
              "        max-height: 100px;\n",
              "      }\n",
              "    </style>\n",
              "    <pre style=\"white-space: initial; background:\n",
              "         var(--colab-secondary-surface-color); padding: 8px 12px;\n",
              "         border-bottom: 1px solid var(--colab-border-color);\"><b>pandas.core.frame.DataFrame</b><br/>def __init__(data=None, index: Axes | None=None, columns: Axes | None=None, dtype: Dtype | None=None, copy: bool | None=None) -&gt; None</pre><pre class=\"function-repr-contents function-repr-contents-collapsed\" style=\"\"><a class=\"filepath\" style=\"display:none\" href=\"#\">/usr/local/lib/python3.10/dist-packages/pandas/core/frame.py</a>Two-dimensional, size-mutable, potentially heterogeneous tabular data.\n",
              "\n",
              "Data structure also contains labeled axes (rows and columns).\n",
              "Arithmetic operations align on both row and column labels. Can be\n",
              "thought of as a dict-like container for Series objects. The primary\n",
              "pandas data structure.\n",
              "\n",
              "Parameters\n",
              "----------\n",
              "data : ndarray (structured or homogeneous), Iterable, dict, or DataFrame\n",
              "    Dict can contain Series, arrays, constants, dataclass or list-like objects. If\n",
              "    data is a dict, column order follows insertion-order. If a dict contains Series\n",
              "    which have an index defined, it is aligned by its index. This alignment also\n",
              "    occurs if data is a Series or a DataFrame itself. Alignment is done on\n",
              "    Series/DataFrame inputs.\n",
              "\n",
              "    If data is a list of dicts, column order follows insertion-order.\n",
              "\n",
              "index : Index or array-like\n",
              "    Index to use for resulting frame. Will default to RangeIndex if\n",
              "    no indexing information part of input data and no index provided.\n",
              "columns : Index or array-like\n",
              "    Column labels to use for resulting frame when data does not have them,\n",
              "    defaulting to RangeIndex(0, 1, 2, ..., n). If data contains column labels,\n",
              "    will perform column selection instead.\n",
              "dtype : dtype, default None\n",
              "    Data type to force. Only a single dtype is allowed. If None, infer.\n",
              "copy : bool or None, default None\n",
              "    Copy data from inputs.\n",
              "    For dict data, the default of None behaves like ``copy=True``.  For DataFrame\n",
              "    or 2d ndarray input, the default of None behaves like ``copy=False``.\n",
              "    If data is a dict containing one or more Series (possibly of different dtypes),\n",
              "    ``copy=False`` will ensure that these inputs are not copied.\n",
              "\n",
              "    .. versionchanged:: 1.3.0\n",
              "\n",
              "See Also\n",
              "--------\n",
              "DataFrame.from_records : Constructor from tuples, also record arrays.\n",
              "DataFrame.from_dict : From dicts of Series, arrays, or dicts.\n",
              "read_csv : Read a comma-separated values (csv) file into DataFrame.\n",
              "read_table : Read general delimited file into DataFrame.\n",
              "read_clipboard : Read text from clipboard into DataFrame.\n",
              "\n",
              "Notes\n",
              "-----\n",
              "Please reference the :ref:`User Guide &lt;basics.dataframe&gt;` for more information.\n",
              "\n",
              "Examples\n",
              "--------\n",
              "Constructing DataFrame from a dictionary.\n",
              "\n",
              "&gt;&gt;&gt; d = {&#x27;col1&#x27;: [1, 2], &#x27;col2&#x27;: [3, 4]}\n",
              "&gt;&gt;&gt; df = pd.DataFrame(data=d)\n",
              "&gt;&gt;&gt; df\n",
              "   col1  col2\n",
              "0     1     3\n",
              "1     2     4\n",
              "\n",
              "Notice that the inferred dtype is int64.\n",
              "\n",
              "&gt;&gt;&gt; df.dtypes\n",
              "col1    int64\n",
              "col2    int64\n",
              "dtype: object\n",
              "\n",
              "To enforce a single dtype:\n",
              "\n",
              "&gt;&gt;&gt; df = pd.DataFrame(data=d, dtype=np.int8)\n",
              "&gt;&gt;&gt; df.dtypes\n",
              "col1    int8\n",
              "col2    int8\n",
              "dtype: object\n",
              "\n",
              "Constructing DataFrame from a dictionary including Series:\n",
              "\n",
              "&gt;&gt;&gt; d = {&#x27;col1&#x27;: [0, 1, 2, 3], &#x27;col2&#x27;: pd.Series([2, 3], index=[2, 3])}\n",
              "&gt;&gt;&gt; pd.DataFrame(data=d, index=[0, 1, 2, 3])\n",
              "   col1  col2\n",
              "0     0   NaN\n",
              "1     1   NaN\n",
              "2     2   2.0\n",
              "3     3   3.0\n",
              "\n",
              "Constructing DataFrame from numpy ndarray:\n",
              "\n",
              "&gt;&gt;&gt; df2 = pd.DataFrame(np.array([[1, 2, 3], [4, 5, 6], [7, 8, 9]]),\n",
              "...                    columns=[&#x27;a&#x27;, &#x27;b&#x27;, &#x27;c&#x27;])\n",
              "&gt;&gt;&gt; df2\n",
              "   a  b  c\n",
              "0  1  2  3\n",
              "1  4  5  6\n",
              "2  7  8  9\n",
              "\n",
              "Constructing DataFrame from a numpy ndarray that has labeled columns:\n",
              "\n",
              "&gt;&gt;&gt; data = np.array([(1, 2, 3), (4, 5, 6), (7, 8, 9)],\n",
              "...                 dtype=[(&quot;a&quot;, &quot;i4&quot;), (&quot;b&quot;, &quot;i4&quot;), (&quot;c&quot;, &quot;i4&quot;)])\n",
              "&gt;&gt;&gt; df3 = pd.DataFrame(data, columns=[&#x27;c&#x27;, &#x27;a&#x27;])\n",
              "...\n",
              "&gt;&gt;&gt; df3\n",
              "   c  a\n",
              "0  3  1\n",
              "1  6  4\n",
              "2  9  7\n",
              "\n",
              "Constructing DataFrame from dataclass:\n",
              "\n",
              "&gt;&gt;&gt; from dataclasses import make_dataclass\n",
              "&gt;&gt;&gt; Point = make_dataclass(&quot;Point&quot;, [(&quot;x&quot;, int), (&quot;y&quot;, int)])\n",
              "&gt;&gt;&gt; pd.DataFrame([Point(0, 0), Point(0, 3), Point(2, 3)])\n",
              "   x  y\n",
              "0  0  0\n",
              "1  0  3\n",
              "2  2  3\n",
              "\n",
              "Constructing DataFrame from Series/DataFrame:\n",
              "\n",
              "&gt;&gt;&gt; ser = pd.Series([1, 2, 3], index=[&quot;a&quot;, &quot;b&quot;, &quot;c&quot;])\n",
              "&gt;&gt;&gt; df = pd.DataFrame(data=ser, index=[&quot;a&quot;, &quot;c&quot;])\n",
              "&gt;&gt;&gt; df\n",
              "   0\n",
              "a  1\n",
              "c  3\n",
              "\n",
              "&gt;&gt;&gt; df1 = pd.DataFrame([1, 2, 3], index=[&quot;a&quot;, &quot;b&quot;, &quot;c&quot;], columns=[&quot;x&quot;])\n",
              "&gt;&gt;&gt; df2 = pd.DataFrame(data=df1, index=[&quot;a&quot;, &quot;c&quot;])\n",
              "&gt;&gt;&gt; df2\n",
              "   x\n",
              "a  1\n",
              "c  3</pre>\n",
              "      <script>\n",
              "      if (google.colab.kernel.accessAllowed && google.colab.files && google.colab.files.view) {\n",
              "        for (const element of document.querySelectorAll('.filepath')) {\n",
              "          element.style.display = 'block'\n",
              "          element.onclick = (event) => {\n",
              "            event.preventDefault();\n",
              "            event.stopPropagation();\n",
              "            google.colab.files.view(element.textContent, 509);\n",
              "          };\n",
              "        }\n",
              "      }\n",
              "      for (const element of document.querySelectorAll('.function-repr-contents')) {\n",
              "        element.onclick = (event) => {\n",
              "          event.preventDefault();\n",
              "          event.stopPropagation();\n",
              "          element.classList.toggle('function-repr-contents-collapsed');\n",
              "        };\n",
              "      }\n",
              "      </script>\n",
              "      </div>"
            ]
          },
          "metadata": {},
          "execution_count": 4
        }
      ]
    },
    {
      "cell_type": "code",
      "source": [
        "from pyspark.sql import SparkSession"
      ],
      "metadata": {
        "id": "l8WsNRp5FcTJ"
      },
      "execution_count": 5,
      "outputs": []
    },
    {
      "cell_type": "code",
      "source": [
        "spark = SparkSession.builder.appName('Trial').getOrCreate()"
      ],
      "metadata": {
        "id": "XxJJOvgKFsm-"
      },
      "execution_count": 6,
      "outputs": []
    },
    {
      "cell_type": "code",
      "source": [
        "spark"
      ],
      "metadata": {
        "colab": {
          "base_uri": "https://localhost:8080/",
          "height": 222
        },
        "id": "hjkoasnFF2Uq",
        "outputId": "9ce326f1-3212-45a5-8d74-488d355d5491"
      },
      "execution_count": 7,
      "outputs": [
        {
          "output_type": "execute_result",
          "data": {
            "text/plain": [
              "<pyspark.sql.session.SparkSession at 0x796c3408eb00>"
            ],
            "text/html": [
              "\n",
              "            <div>\n",
              "                <p><b>SparkSession - in-memory</b></p>\n",
              "                \n",
              "        <div>\n",
              "            <p><b>SparkContext</b></p>\n",
              "\n",
              "            <p><a href=\"http://ab322ecba8d5:4040\">Spark UI</a></p>\n",
              "\n",
              "            <dl>\n",
              "              <dt>Version</dt>\n",
              "                <dd><code>v3.5.3</code></dd>\n",
              "              <dt>Master</dt>\n",
              "                <dd><code>local[*]</code></dd>\n",
              "              <dt>AppName</dt>\n",
              "                <dd><code>Trial</code></dd>\n",
              "            </dl>\n",
              "        </div>\n",
              "        \n",
              "            </div>\n",
              "        "
            ]
          },
          "metadata": {},
          "execution_count": 7
        }
      ]
    },
    {
      "cell_type": "code",
      "source": [
        "df_pyspark = spark.read.csv(\"/content/Rainfall.csv\")\n",
        "df_pyspark.show()  #This shows c0 c1 c2 as the columns"
      ],
      "metadata": {
        "colab": {
          "base_uri": "https://localhost:8080/"
        },
        "id": "deXYfqdlF9nf",
        "outputId": "3d2a5dfa-250e-45a1-cd30-06f0ee7dd45f"
      },
      "execution_count": 8,
      "outputs": [
        {
          "output_type": "stream",
          "name": "stdout",
          "text": [
            "+---+---------+-------+-----------+-------+--------+---------+------+--------+--------+--------------------+---------+\n",
            "|_c0|      _c1|    _c2|        _c3|    _c4|     _c5|      _c6|   _c7|     _c8|     _c9|                _c10|     _c11|\n",
            "+---+---------+-------+-----------+-------+--------+---------+------+--------+--------+--------------------+---------+\n",
            "|day|pressure |maxtemp|temparature|mintemp|dewpoint|humidity |cloud |rainfall|sunshine|         winddire...|windspeed|\n",
            "|  1|   1025.9|   19.9|       18.3|   16.8|    13.1|       72|    49|     yes|     9.3|                  80|     26.3|\n",
            "|  2|     1022|   21.7|       18.9|   17.2|    15.6|       81|    83|     yes|     0.6|                  50|     15.3|\n",
            "|  3|   1019.7|   20.3|       19.3|     18|    18.4|       95|    91|     yes|       0|                  40|     14.2|\n",
            "|  4|   1018.9|   22.3|       20.6|   19.1|    18.8|       90|    88|     yes|       1|                  50|     16.9|\n",
            "|  5|   1015.9|   21.3|       20.7|   20.2|    19.9|       95|    81|     yes|       0|                  40|     13.7|\n",
            "|  6|   1018.8|   24.3|       20.9|   19.2|      18|       84|    51|     yes|     7.7|                  20|     14.5|\n",
            "|  7|   1021.8|   21.4|       18.8|     17|      15|       79|    56|      no|     3.4|                  30|     21.5|\n",
            "|  8|   1020.8|     21|       18.4|   16.5|    14.4|       78|    28|      no|     7.7|                  60|     14.3|\n",
            "|  9|   1020.6|   18.9|       18.1|   17.1|    14.3|       78|    79|      no|     3.3|                  70|     39.3|\n",
            "| 10|   1017.5|   18.5|         18|   17.2|    15.5|       85|    91|     yes|       0|                  70|     37.7|\n",
            "| 11|   1016.5|   20.4|       18.1|   16.5|    16.4|       90|    90|     yes|     2.1|                  40|     23.3|\n",
            "| 12|   1019.9|   18.5|       17.3|   16.1|    13.7|       79|    86|      no|     0.6|                  20|     23.9|\n",
            "| 13|   1020.8|   18.7|       16.1|   14.2|    12.1|       77|    34|      no|     9.1|                  30|     24.4|\n",
            "| 14|   1019.3|   17.5|       16.5|   15.6|    12.9|       79|    81|     yes|     1.5|                  60|     33.2|\n",
            "| 15|   1015.4|   16.1|       15.1|   14.5|    14.6|       97|    97|     yes|       0|                  50|     37.5|\n",
            "| 16|   1013.5|   17.1|       16.4|   15.5|    15.6|       95|    93|     yes|       0|                  60|       40|\n",
            "| 17|   1011.5|   20.6|       17.8|   14.8|    16.1|       90|    79|     yes|     1.6|                  20|     23.4|\n",
            "| 18|   1017.1|   17.8|       15.2|   11.9|    11.1|       76|    49|      no|     3.9|                  50|     28.4|\n",
            "| 19|   1020.1|   17.6|       16.4|   15.3|    12.5|       78|    84|      no|       1|                  60|       38|\n",
            "+---+---------+-------+-----------+-------+--------+---------+------+--------+--------+--------------------+---------+\n",
            "only showing top 20 rows\n",
            "\n"
          ]
        }
      ]
    },
    {
      "cell_type": "code",
      "source": [
        "type(df_pyspark)"
      ],
      "metadata": {
        "colab": {
          "base_uri": "https://localhost:8080/",
          "height": 186
        },
        "id": "fNP0ccQUHWs3",
        "outputId": "dc66bcff-c70c-47f4-d2ba-c7b5455e4bf9"
      },
      "execution_count": 9,
      "outputs": [
        {
          "output_type": "execute_result",
          "data": {
            "text/plain": [
              "pyspark.sql.dataframe.DataFrame"
            ],
            "text/html": [
              "<div style=\"max-width:800px; border: 1px solid var(--colab-border-color);\"><style>\n",
              "      pre.function-repr-contents {\n",
              "        overflow-x: auto;\n",
              "        padding: 8px 12px;\n",
              "        max-height: 500px;\n",
              "      }\n",
              "\n",
              "      pre.function-repr-contents.function-repr-contents-collapsed {\n",
              "        cursor: pointer;\n",
              "        max-height: 100px;\n",
              "      }\n",
              "    </style>\n",
              "    <pre style=\"white-space: initial; background:\n",
              "         var(--colab-secondary-surface-color); padding: 8px 12px;\n",
              "         border-bottom: 1px solid var(--colab-border-color);\"><b>pyspark.sql.dataframe.DataFrame</b><br/>def __init__(jdf: JavaObject, sql_ctx: Union[&#x27;SQLContext&#x27;, &#x27;SparkSession&#x27;])</pre><pre class=\"function-repr-contents function-repr-contents-collapsed\" style=\"\"><a class=\"filepath\" style=\"display:none\" href=\"#\">/usr/local/lib/python3.10/dist-packages/pyspark/sql/dataframe.py</a>A distributed collection of data grouped into named columns.\n",
              "\n",
              ".. versionadded:: 1.3.0\n",
              "\n",
              ".. versionchanged:: 3.4.0\n",
              "    Supports Spark Connect.\n",
              "\n",
              "Examples\n",
              "--------\n",
              "A :class:`DataFrame` is equivalent to a relational table in Spark SQL,\n",
              "and can be created using various functions in :class:`SparkSession`:\n",
              "\n",
              "&gt;&gt;&gt; people = spark.createDataFrame([\n",
              "...     {&quot;deptId&quot;: 1, &quot;age&quot;: 40, &quot;name&quot;: &quot;Hyukjin Kwon&quot;, &quot;gender&quot;: &quot;M&quot;, &quot;salary&quot;: 50},\n",
              "...     {&quot;deptId&quot;: 1, &quot;age&quot;: 50, &quot;name&quot;: &quot;Takuya Ueshin&quot;, &quot;gender&quot;: &quot;M&quot;, &quot;salary&quot;: 100},\n",
              "...     {&quot;deptId&quot;: 2, &quot;age&quot;: 60, &quot;name&quot;: &quot;Xinrong Meng&quot;, &quot;gender&quot;: &quot;F&quot;, &quot;salary&quot;: 150},\n",
              "...     {&quot;deptId&quot;: 3, &quot;age&quot;: 20, &quot;name&quot;: &quot;Haejoon Lee&quot;, &quot;gender&quot;: &quot;M&quot;, &quot;salary&quot;: 200}\n",
              "... ])\n",
              "\n",
              "Once created, it can be manipulated using the various domain-specific-language\n",
              "(DSL) functions defined in: :class:`DataFrame`, :class:`Column`.\n",
              "\n",
              "To select a column from the :class:`DataFrame`, use the apply method:\n",
              "\n",
              "&gt;&gt;&gt; age_col = people.age\n",
              "\n",
              "A more concrete example:\n",
              "\n",
              "&gt;&gt;&gt; # To create DataFrame using SparkSession\n",
              "... department = spark.createDataFrame([\n",
              "...     {&quot;id&quot;: 1, &quot;name&quot;: &quot;PySpark&quot;},\n",
              "...     {&quot;id&quot;: 2, &quot;name&quot;: &quot;ML&quot;},\n",
              "...     {&quot;id&quot;: 3, &quot;name&quot;: &quot;Spark SQL&quot;}\n",
              "... ])\n",
              "\n",
              "&gt;&gt;&gt; people.filter(people.age &gt; 30).join(\n",
              "...     department, people.deptId == department.id).groupBy(\n",
              "...     department.name, &quot;gender&quot;).agg({&quot;salary&quot;: &quot;avg&quot;, &quot;age&quot;: &quot;max&quot;}).show()\n",
              "+-------+------+-----------+--------+\n",
              "|   name|gender|avg(salary)|max(age)|\n",
              "+-------+------+-----------+--------+\n",
              "|     ML|     F|      150.0|      60|\n",
              "|PySpark|     M|       75.0|      50|\n",
              "+-------+------+-----------+--------+\n",
              "\n",
              "Notes\n",
              "-----\n",
              "A DataFrame should only be created as described above. It should not be directly\n",
              "created via using the constructor.</pre>\n",
              "      <script>\n",
              "      if (google.colab.kernel.accessAllowed && google.colab.files && google.colab.files.view) {\n",
              "        for (const element of document.querySelectorAll('.filepath')) {\n",
              "          element.style.display = 'block'\n",
              "          element.onclick = (event) => {\n",
              "            event.preventDefault();\n",
              "            event.stopPropagation();\n",
              "            google.colab.files.view(element.textContent, 80);\n",
              "          };\n",
              "        }\n",
              "      }\n",
              "      for (const element of document.querySelectorAll('.function-repr-contents')) {\n",
              "        element.onclick = (event) => {\n",
              "          event.preventDefault();\n",
              "          event.stopPropagation();\n",
              "          element.classList.toggle('function-repr-contents-collapsed');\n",
              "        };\n",
              "      }\n",
              "      </script>\n",
              "      </div>"
            ]
          },
          "metadata": {},
          "execution_count": 9
        }
      ]
    },
    {
      "cell_type": "code",
      "source": [
        "dff = spark.read.option('header', 'true').csv(\"/content/Rainfall.csv\").show()"
      ],
      "metadata": {
        "colab": {
          "base_uri": "https://localhost:8080/"
        },
        "id": "7voz348_Gab9",
        "outputId": "2ee9d7d8-db8c-484c-dd51-8379b82c3e3d"
      },
      "execution_count": 10,
      "outputs": [
        {
          "output_type": "stream",
          "name": "stdout",
          "text": [
            "+---+---------+-------+-----------+-------+--------+---------+------+--------+--------+----------------------+---------+\n",
            "|day|pressure |maxtemp|temparature|mintemp|dewpoint|humidity |cloud |rainfall|sunshine|         winddirection|windspeed|\n",
            "+---+---------+-------+-----------+-------+--------+---------+------+--------+--------+----------------------+---------+\n",
            "|  1|   1025.9|   19.9|       18.3|   16.8|    13.1|       72|    49|     yes|     9.3|                    80|     26.3|\n",
            "|  2|     1022|   21.7|       18.9|   17.2|    15.6|       81|    83|     yes|     0.6|                    50|     15.3|\n",
            "|  3|   1019.7|   20.3|       19.3|     18|    18.4|       95|    91|     yes|       0|                    40|     14.2|\n",
            "|  4|   1018.9|   22.3|       20.6|   19.1|    18.8|       90|    88|     yes|       1|                    50|     16.9|\n",
            "|  5|   1015.9|   21.3|       20.7|   20.2|    19.9|       95|    81|     yes|       0|                    40|     13.7|\n",
            "|  6|   1018.8|   24.3|       20.9|   19.2|      18|       84|    51|     yes|     7.7|                    20|     14.5|\n",
            "|  7|   1021.8|   21.4|       18.8|     17|      15|       79|    56|      no|     3.4|                    30|     21.5|\n",
            "|  8|   1020.8|     21|       18.4|   16.5|    14.4|       78|    28|      no|     7.7|                    60|     14.3|\n",
            "|  9|   1020.6|   18.9|       18.1|   17.1|    14.3|       78|    79|      no|     3.3|                    70|     39.3|\n",
            "| 10|   1017.5|   18.5|         18|   17.2|    15.5|       85|    91|     yes|       0|                    70|     37.7|\n",
            "| 11|   1016.5|   20.4|       18.1|   16.5|    16.4|       90|    90|     yes|     2.1|                    40|     23.3|\n",
            "| 12|   1019.9|   18.5|       17.3|   16.1|    13.7|       79|    86|      no|     0.6|                    20|     23.9|\n",
            "| 13|   1020.8|   18.7|       16.1|   14.2|    12.1|       77|    34|      no|     9.1|                    30|     24.4|\n",
            "| 14|   1019.3|   17.5|       16.5|   15.6|    12.9|       79|    81|     yes|     1.5|                    60|     33.2|\n",
            "| 15|   1015.4|   16.1|       15.1|   14.5|    14.6|       97|    97|     yes|       0|                    50|     37.5|\n",
            "| 16|   1013.5|   17.1|       16.4|   15.5|    15.6|       95|    93|     yes|       0|                    60|       40|\n",
            "| 17|   1011.5|   20.6|       17.8|   14.8|    16.1|       90|    79|     yes|     1.6|                    20|     23.4|\n",
            "| 18|   1017.1|   17.8|       15.2|   11.9|    11.1|       76|    49|      no|     3.9|                    50|     28.4|\n",
            "| 19|   1020.1|   17.6|       16.4|   15.3|    12.5|       78|    84|      no|       1|                    60|       38|\n",
            "| 20|   1019.6|   16.8|       15.5|   14.8|    13.9|       90|    92|     yes|       0|                    70|     50.6|\n",
            "+---+---------+-------+-----------+-------+--------+---------+------+--------+--------+----------------------+---------+\n",
            "only showing top 20 rows\n",
            "\n"
          ]
        }
      ]
    },
    {
      "cell_type": "code",
      "source": [
        "df_pyspark.head()"
      ],
      "metadata": {
        "id": "cgPW7jf0HpSS",
        "colab": {
          "base_uri": "https://localhost:8080/"
        },
        "outputId": "0657c223-ee77-4103-ccce-745ce1da1c8f"
      },
      "execution_count": 11,
      "outputs": [
        {
          "output_type": "execute_result",
          "data": {
            "text/plain": [
              "Row(_c0='day', _c1='pressure ', _c2='maxtemp', _c3='temparature', _c4='mintemp', _c5='dewpoint', _c6='humidity ', _c7='cloud ', _c8='rainfall', _c9='sunshine', _c10='         winddirection', _c11='windspeed')"
            ]
          },
          "metadata": {},
          "execution_count": 11
        }
      ]
    },
    {
      "cell_type": "code",
      "source": [
        "dff_pyspark = spark.read.csv(\"/content/Rainfall.csv\")\n",
        "#using inferSchema will also all columns to be displayed in their original datatype else all will be string by default\n",
        "dff_pyspark = spark.read.option('header', 'true').csv(\"/content/Rainfall.csv\", inferSchema=True)"
      ],
      "metadata": {
        "id": "k7ptSCcwbmdy"
      },
      "execution_count": 12,
      "outputs": []
    },
    {
      "cell_type": "code",
      "source": [
        "dff_pyspark.head()"
      ],
      "metadata": {
        "colab": {
          "base_uri": "https://localhost:8080/"
        },
        "id": "2FiA9yDBcArm",
        "outputId": "3e41dc7d-aeab-42e3-9432-423807063abb"
      },
      "execution_count": 13,
      "outputs": [
        {
          "output_type": "execute_result",
          "data": {
            "text/plain": [
              "Row(day=1, pressure =1025.9, maxtemp=19.9, temparature=18.3, mintemp=16.8, dewpoint=13.1, humidity =72, cloud =49, rainfall='yes', sunshine=9.3,          winddirection=80, windspeed=26.3)"
            ]
          },
          "metadata": {},
          "execution_count": 13
        }
      ]
    },
    {
      "cell_type": "code",
      "source": [
        "dff_pyspark.printSchema() #Just like df.info()"
      ],
      "metadata": {
        "id": "3GvJejjTcEdI",
        "colab": {
          "base_uri": "https://localhost:8080/"
        },
        "outputId": "c9f5fa14-ef58-4b54-aace-605a7033f489"
      },
      "execution_count": 14,
      "outputs": [
        {
          "output_type": "stream",
          "name": "stdout",
          "text": [
            "root\n",
            " |-- day: integer (nullable = true)\n",
            " |-- pressure : double (nullable = true)\n",
            " |-- maxtemp: double (nullable = true)\n",
            " |-- temparature: double (nullable = true)\n",
            " |-- mintemp: double (nullable = true)\n",
            " |-- dewpoint: double (nullable = true)\n",
            " |-- humidity : integer (nullable = true)\n",
            " |-- cloud : integer (nullable = true)\n",
            " |-- rainfall: string (nullable = true)\n",
            " |-- sunshine: double (nullable = true)\n",
            " |--          winddirection: integer (nullable = true)\n",
            " |-- windspeed: double (nullable = true)\n",
            "\n"
          ]
        }
      ]
    },
    {
      "cell_type": "code",
      "source": [
        "# Get all columns\n",
        "dff_pyspark.columns"
      ],
      "metadata": {
        "colab": {
          "base_uri": "https://localhost:8080/"
        },
        "id": "sx4-AtdGT8Sx",
        "outputId": "93276db3-88e4-4713-9555-5c55060dcad6"
      },
      "execution_count": 15,
      "outputs": [
        {
          "output_type": "execute_result",
          "data": {
            "text/plain": [
              "['day',\n",
              " 'pressure ',\n",
              " 'maxtemp',\n",
              " 'temparature',\n",
              " 'mintemp',\n",
              " 'dewpoint',\n",
              " 'humidity ',\n",
              " 'cloud ',\n",
              " 'rainfall',\n",
              " 'sunshine',\n",
              " '         winddirection',\n",
              " 'windspeed']"
            ]
          },
          "metadata": {},
          "execution_count": 15
        }
      ]
    },
    {
      "cell_type": "code",
      "source": [
        "# To see all value of a particular column\n",
        "all = dff_pyspark.select('Rainfall').show(5)"
      ],
      "metadata": {
        "colab": {
          "base_uri": "https://localhost:8080/"
        },
        "id": "UKqaLVsJVMgN",
        "outputId": "39d1767a-69a4-4a3c-a5a5-a3c9972f5284"
      },
      "execution_count": 16,
      "outputs": [
        {
          "output_type": "stream",
          "name": "stdout",
          "text": [
            "+--------+\n",
            "|Rainfall|\n",
            "+--------+\n",
            "|     yes|\n",
            "|     yes|\n",
            "|     yes|\n",
            "|     yes|\n",
            "|     yes|\n",
            "+--------+\n",
            "only showing top 5 rows\n",
            "\n"
          ]
        }
      ]
    },
    {
      "cell_type": "code",
      "source": [
        "# See two columns at a time\n",
        "multi_columns = dff_pyspark.select(['temparature', 'humidity ']).show()"
      ],
      "metadata": {
        "colab": {
          "base_uri": "https://localhost:8080/"
        },
        "id": "Vpwu_aZDVk_q",
        "outputId": "bb930124-1666-48d1-d226-2fb01006987a"
      },
      "execution_count": 17,
      "outputs": [
        {
          "output_type": "stream",
          "name": "stdout",
          "text": [
            "+-----------+---------+\n",
            "|temparature|humidity |\n",
            "+-----------+---------+\n",
            "|       18.3|       72|\n",
            "|       18.9|       81|\n",
            "|       19.3|       95|\n",
            "|       20.6|       90|\n",
            "|       20.7|       95|\n",
            "|       20.9|       84|\n",
            "|       18.8|       79|\n",
            "|       18.4|       78|\n",
            "|       18.1|       78|\n",
            "|       18.0|       85|\n",
            "|       18.1|       90|\n",
            "|       17.3|       79|\n",
            "|       16.1|       77|\n",
            "|       16.5|       79|\n",
            "|       15.1|       97|\n",
            "|       16.4|       95|\n",
            "|       17.8|       90|\n",
            "|       15.2|       76|\n",
            "|       16.4|       78|\n",
            "|       15.5|       90|\n",
            "+-----------+---------+\n",
            "only showing top 20 rows\n",
            "\n"
          ]
        }
      ]
    },
    {
      "cell_type": "code",
      "source": [
        "# Check data types of all columns\n",
        "dff_pyspark.dtypes"
      ],
      "metadata": {
        "colab": {
          "base_uri": "https://localhost:8080/"
        },
        "id": "i8BDkB6vV346",
        "outputId": "51b8df05-3fba-4bf6-8acc-7f9aab23f22e"
      },
      "execution_count": 18,
      "outputs": [
        {
          "output_type": "execute_result",
          "data": {
            "text/plain": [
              "[('day', 'int'),\n",
              " ('pressure ', 'double'),\n",
              " ('maxtemp', 'double'),\n",
              " ('temparature', 'double'),\n",
              " ('mintemp', 'double'),\n",
              " ('dewpoint', 'double'),\n",
              " ('humidity ', 'int'),\n",
              " ('cloud ', 'int'),\n",
              " ('rainfall', 'string'),\n",
              " ('sunshine', 'double'),\n",
              " ('         winddirection', 'int'),\n",
              " ('windspeed', 'double')]"
            ]
          },
          "metadata": {},
          "execution_count": 18
        }
      ]
    },
    {
      "cell_type": "code",
      "source": [
        "# Describe function\n",
        "dff_pyspark.describe().show()"
      ],
      "metadata": {
        "colab": {
          "base_uri": "https://localhost:8080/"
        },
        "id": "AYjLvZf_XXp8",
        "outputId": "99d05603-708d-40e7-ee43-7b16225a604c"
      },
      "execution_count": 19,
      "outputs": [
        {
          "output_type": "stream",
          "name": "stdout",
          "text": [
            "+-------+------------------+------------------+------------------+------------------+------------------+------------------+------------------+-----------------+--------+------------------+----------------------+------------------+\n",
            "|summary|               day|         pressure |           maxtemp|       temparature|           mintemp|          dewpoint|         humidity |           cloud |rainfall|          sunshine|         winddirection|         windspeed|\n",
            "+-------+------------------+------------------+------------------+------------------+------------------+------------------+------------------+-----------------+--------+------------------+----------------------+------------------+\n",
            "|  count|               366|               366|               366|               366|               366|               366|               366|              366|     366|               366|                   365|               365|\n",
            "|   mean|15.756830601092895|1013.7426229508201|26.191256830601098| 23.74726775956283|21.894535519125682|19.989071038251385|  80.1775956284153|71.12841530054645|    NULL| 4.419398907103823|     101.5068493150685|21.536986301369858|\n",
            "| stddev| 8.823591963189891| 6.414776409895339| 5.978342653428503|5.6328129345386255| 5.594152786625051| 5.997021243267359|10.062470118618508|21.79801200442053|    NULL|3.9343977512568165|     81.72372436011264|10.069711777815357|\n",
            "|    min|                 1|             998.5|               7.1|               4.9|               3.1|              -0.4|                36|                0|      no|               0.0|                    10|               4.4|\n",
            "|    max|                31|            1034.6|              36.3|              32.4|              30.0|              26.7|                98|              100|     yes|              12.1|                   350|              59.5|\n",
            "+-------+------------------+------------------+------------------+------------------+------------------+------------------+------------------+-----------------+--------+------------------+----------------------+------------------+\n",
            "\n"
          ]
        }
      ]
    },
    {
      "cell_type": "code",
      "source": [
        "# Add column\n",
        "new_column = dff_pyspark.withColumn('Day after week',dff_pyspark['day']+7).show(7)"
      ],
      "metadata": {
        "colab": {
          "base_uri": "https://localhost:8080/"
        },
        "id": "Q3LpbWdsXvKj",
        "outputId": "1370d8b1-1625-4a02-8035-212f88560af5"
      },
      "execution_count": 20,
      "outputs": [
        {
          "output_type": "stream",
          "name": "stdout",
          "text": [
            "+---+---------+-------+-----------+-------+--------+---------+------+--------+--------+----------------------+---------+--------------+\n",
            "|day|pressure |maxtemp|temparature|mintemp|dewpoint|humidity |cloud |rainfall|sunshine|         winddirection|windspeed|Day after week|\n",
            "+---+---------+-------+-----------+-------+--------+---------+------+--------+--------+----------------------+---------+--------------+\n",
            "|  1|   1025.9|   19.9|       18.3|   16.8|    13.1|       72|    49|     yes|     9.3|                    80|     26.3|             8|\n",
            "|  2|   1022.0|   21.7|       18.9|   17.2|    15.6|       81|    83|     yes|     0.6|                    50|     15.3|             9|\n",
            "|  3|   1019.7|   20.3|       19.3|   18.0|    18.4|       95|    91|     yes|     0.0|                    40|     14.2|            10|\n",
            "|  4|   1018.9|   22.3|       20.6|   19.1|    18.8|       90|    88|     yes|     1.0|                    50|     16.9|            11|\n",
            "|  5|   1015.9|   21.3|       20.7|   20.2|    19.9|       95|    81|     yes|     0.0|                    40|     13.7|            12|\n",
            "|  6|   1018.8|   24.3|       20.9|   19.2|    18.0|       84|    51|     yes|     7.7|                    20|     14.5|            13|\n",
            "|  7|   1021.8|   21.4|       18.8|   17.0|    15.0|       79|    56|      no|     3.4|                    30|     21.5|            14|\n",
            "+---+---------+-------+-----------+-------+--------+---------+------+--------+--------+----------------------+---------+--------------+\n",
            "only showing top 7 rows\n",
            "\n"
          ]
        }
      ]
    },
    {
      "cell_type": "code",
      "source": [
        "# Drop the column\n",
        "drop_column = dff_pyspark.drop('Day after week').show(7)"
      ],
      "metadata": {
        "colab": {
          "base_uri": "https://localhost:8080/"
        },
        "id": "akpAkPjMYb2n",
        "outputId": "7fd22421-22e8-4f54-f4cc-59f1ea27cba8"
      },
      "execution_count": 21,
      "outputs": [
        {
          "output_type": "stream",
          "name": "stdout",
          "text": [
            "+---+---------+-------+-----------+-------+--------+---------+------+--------+--------+----------------------+---------+\n",
            "|day|pressure |maxtemp|temparature|mintemp|dewpoint|humidity |cloud |rainfall|sunshine|         winddirection|windspeed|\n",
            "+---+---------+-------+-----------+-------+--------+---------+------+--------+--------+----------------------+---------+\n",
            "|  1|   1025.9|   19.9|       18.3|   16.8|    13.1|       72|    49|     yes|     9.3|                    80|     26.3|\n",
            "|  2|   1022.0|   21.7|       18.9|   17.2|    15.6|       81|    83|     yes|     0.6|                    50|     15.3|\n",
            "|  3|   1019.7|   20.3|       19.3|   18.0|    18.4|       95|    91|     yes|     0.0|                    40|     14.2|\n",
            "|  4|   1018.9|   22.3|       20.6|   19.1|    18.8|       90|    88|     yes|     1.0|                    50|     16.9|\n",
            "|  5|   1015.9|   21.3|       20.7|   20.2|    19.9|       95|    81|     yes|     0.0|                    40|     13.7|\n",
            "|  6|   1018.8|   24.3|       20.9|   19.2|    18.0|       84|    51|     yes|     7.7|                    20|     14.5|\n",
            "|  7|   1021.8|   21.4|       18.8|   17.0|    15.0|       79|    56|      no|     3.4|                    30|     21.5|\n",
            "+---+---------+-------+-----------+-------+--------+---------+------+--------+--------+----------------------+---------+\n",
            "only showing top 7 rows\n",
            "\n"
          ]
        }
      ]
    },
    {
      "cell_type": "code",
      "source": [
        "# Renaming the columns\n",
        "renamed_column = dff_pyspark.withColumnRenamed('day', 'Day').show(7)"
      ],
      "metadata": {
        "colab": {
          "base_uri": "https://localhost:8080/"
        },
        "id": "SILRsKVsYxf6",
        "outputId": "f922f11c-19dc-4561-b0f6-03b4577d4bc7"
      },
      "execution_count": 22,
      "outputs": [
        {
          "output_type": "stream",
          "name": "stdout",
          "text": [
            "+---+---------+-------+-----------+-------+--------+---------+------+--------+--------+----------------------+---------+\n",
            "|Day|pressure |maxtemp|temparature|mintemp|dewpoint|humidity |cloud |rainfall|sunshine|         winddirection|windspeed|\n",
            "+---+---------+-------+-----------+-------+--------+---------+------+--------+--------+----------------------+---------+\n",
            "|  1|   1025.9|   19.9|       18.3|   16.8|    13.1|       72|    49|     yes|     9.3|                    80|     26.3|\n",
            "|  2|   1022.0|   21.7|       18.9|   17.2|    15.6|       81|    83|     yes|     0.6|                    50|     15.3|\n",
            "|  3|   1019.7|   20.3|       19.3|   18.0|    18.4|       95|    91|     yes|     0.0|                    40|     14.2|\n",
            "|  4|   1018.9|   22.3|       20.6|   19.1|    18.8|       90|    88|     yes|     1.0|                    50|     16.9|\n",
            "|  5|   1015.9|   21.3|       20.7|   20.2|    19.9|       95|    81|     yes|     0.0|                    40|     13.7|\n",
            "|  6|   1018.8|   24.3|       20.9|   19.2|    18.0|       84|    51|     yes|     7.7|                    20|     14.5|\n",
            "|  7|   1021.8|   21.4|       18.8|   17.0|    15.0|       79|    56|      no|     3.4|                    30|     21.5|\n",
            "+---+---------+-------+-----------+-------+--------+---------+------+--------+--------+----------------------+---------+\n",
            "only showing top 7 rows\n",
            "\n"
          ]
        }
      ]
    },
    {
      "cell_type": "markdown",
      "source": [
        "# MORE OPERATIONS LIKE HANDLING MISSING VALUES, ETC"
      ],
      "metadata": {
        "id": "E_xI-Hr5bYim"
      }
    },
    {
      "cell_type": "code",
      "source": [
        "df_null = spark.read.csv(\"/content/temp.csv\", header=True, inferSchema=True)\n",
        "df_null.show()"
      ],
      "metadata": {
        "colab": {
          "base_uri": "https://localhost:8080/"
        },
        "id": "YDGFgHWpZEGy",
        "outputId": "7be8d48f-d087-4d98-ec0e-28bd56c8e1e2"
      },
      "execution_count": 23,
      "outputs": [
        {
          "output_type": "stream",
          "name": "stdout",
          "text": [
            "+----+----------------+---------+-------+-------+--------+-----------+-------------+--------------+------+\n",
            "|  id|            date|client_id|card_id| amount|use_chip|merchant_id|merchant_city|merchant_state|   zip|\n",
            "+----+----------------+---------+-------+-------+--------+-----------+-------------+--------------+------+\n",
            "|  11|24-11-2024 14:30|   222222|  54321|$100.50|    true|      67890|     New York|            NY| 10001|\n",
            "|  22|24-11-2024 15:00|    12346|  54322|$200.00|   false|      67891|  Los Angeles|            CA| 90001|\n",
            "|  33|24-11-2024 16:15|    12347|  54323| $75.75|    true|      67892|      Chicago|            IL| 60601|\n",
            "|  44|24-11-2024 17:45|    12348|  54324|$150.25|   false|      67893|      Houston|            TX| 77001|\n",
            "|  55|24-11-2024 18:30|    12349|  54325| $50.00|    true|      67894|       Mumbai|            AZ| 85001|\n",
            "|NULL|            NULL|    12450|  54329|   NULL|   false|      67899|         Sion|            BU|400056|\n",
            "|NULL|            NULL|     NULL|  54655| $67.88|    true|      67888|      Andheri|            KL| 34257|\n",
            "+----+----------------+---------+-------+-------+--------+-----------+-------------+--------------+------+\n",
            "\n"
          ]
        }
      ]
    },
    {
      "cell_type": "code",
      "source": [
        "# Drop whole row where there are null values\n",
        "drop_row = df_null.na.drop().show()"
      ],
      "metadata": {
        "colab": {
          "base_uri": "https://localhost:8080/"
        },
        "id": "qLyjIsKgbS0t",
        "outputId": "71e1d767-bc8c-4c7b-a0b2-9196c35e7828"
      },
      "execution_count": 24,
      "outputs": [
        {
          "output_type": "stream",
          "name": "stdout",
          "text": [
            "+---+----------------+---------+-------+-------+--------+-----------+-------------+--------------+-----+\n",
            "| id|            date|client_id|card_id| amount|use_chip|merchant_id|merchant_city|merchant_state|  zip|\n",
            "+---+----------------+---------+-------+-------+--------+-----------+-------------+--------------+-----+\n",
            "| 11|24-11-2024 14:30|   222222|  54321|$100.50|    true|      67890|     New York|            NY|10001|\n",
            "| 22|24-11-2024 15:00|    12346|  54322|$200.00|   false|      67891|  Los Angeles|            CA|90001|\n",
            "| 33|24-11-2024 16:15|    12347|  54323| $75.75|    true|      67892|      Chicago|            IL|60601|\n",
            "| 44|24-11-2024 17:45|    12348|  54324|$150.25|   false|      67893|      Houston|            TX|77001|\n",
            "| 55|24-11-2024 18:30|    12349|  54325| $50.00|    true|      67894|       Mumbai|            AZ|85001|\n",
            "+---+----------------+---------+-------+-------+--------+-----------+-------------+--------------+-----+\n",
            "\n"
          ]
        }
      ]
    },
    {
      "cell_type": "code",
      "source": [
        "# Threshold - if less non null values are there in a row than thresh,then that will get deleted\n",
        "drop_thresh = df_null.na.drop(how='any', thresh=2).show()"
      ],
      "metadata": {
        "colab": {
          "base_uri": "https://localhost:8080/"
        },
        "id": "dNc3S0X2b-0I",
        "outputId": "4fb8420d-b571-417a-d5f8-8a3988029925"
      },
      "execution_count": 25,
      "outputs": [
        {
          "output_type": "stream",
          "name": "stdout",
          "text": [
            "+----+----------------+---------+-------+-------+--------+-----------+-------------+--------------+------+\n",
            "|  id|            date|client_id|card_id| amount|use_chip|merchant_id|merchant_city|merchant_state|   zip|\n",
            "+----+----------------+---------+-------+-------+--------+-----------+-------------+--------------+------+\n",
            "|  11|24-11-2024 14:30|   222222|  54321|$100.50|    true|      67890|     New York|            NY| 10001|\n",
            "|  22|24-11-2024 15:00|    12346|  54322|$200.00|   false|      67891|  Los Angeles|            CA| 90001|\n",
            "|  33|24-11-2024 16:15|    12347|  54323| $75.75|    true|      67892|      Chicago|            IL| 60601|\n",
            "|  44|24-11-2024 17:45|    12348|  54324|$150.25|   false|      67893|      Houston|            TX| 77001|\n",
            "|  55|24-11-2024 18:30|    12349|  54325| $50.00|    true|      67894|       Mumbai|            AZ| 85001|\n",
            "|NULL|            NULL|    12450|  54329|   NULL|   false|      67899|         Sion|            BU|400056|\n",
            "|NULL|            NULL|     NULL|  54655| $67.88|    true|      67888|      Andheri|            KL| 34257|\n",
            "+----+----------------+---------+-------+-------+--------+-----------+-------------+--------------+------+\n",
            "\n"
          ]
        }
      ]
    },
    {
      "cell_type": "code",
      "source": [
        "# Subset - Drop nan values from a particular column\n",
        "drop_subset = df_null.na.drop(how='any', subset=['date']).show()"
      ],
      "metadata": {
        "colab": {
          "base_uri": "https://localhost:8080/"
        },
        "id": "m7UeD5aCca1B",
        "outputId": "fc44fa5b-25ff-4cac-ea34-d0024141c881"
      },
      "execution_count": 26,
      "outputs": [
        {
          "output_type": "stream",
          "name": "stdout",
          "text": [
            "+---+----------------+---------+-------+-------+--------+-----------+-------------+--------------+-----+\n",
            "| id|            date|client_id|card_id| amount|use_chip|merchant_id|merchant_city|merchant_state|  zip|\n",
            "+---+----------------+---------+-------+-------+--------+-----------+-------------+--------------+-----+\n",
            "| 11|24-11-2024 14:30|   222222|  54321|$100.50|    true|      67890|     New York|            NY|10001|\n",
            "| 22|24-11-2024 15:00|    12346|  54322|$200.00|   false|      67891|  Los Angeles|            CA|90001|\n",
            "| 33|24-11-2024 16:15|    12347|  54323| $75.75|    true|      67892|      Chicago|            IL|60601|\n",
            "| 44|24-11-2024 17:45|    12348|  54324|$150.25|   false|      67893|      Houston|            TX|77001|\n",
            "| 55|24-11-2024 18:30|    12349|  54325| $50.00|    true|      67894|       Mumbai|            AZ|85001|\n",
            "+---+----------------+---------+-------+-------+--------+-----------+-------------+--------------+-----+\n",
            "\n"
          ]
        }
      ]
    },
    {
      "cell_type": "code",
      "source": [
        "# Fill Missing values\n",
        "from pyspark.ml.feature import Imputer\n",
        "imputer = Imputer(\n",
        "    inputCols=['client_id'],\n",
        "    outputCols=[\"{}_imputed\".format(c) for c in ['client_id']]\n",
        ").setStrategy(\"mean\")\n",
        "\n",
        "imputer.fit(df_null).transform(df_null).show()"
      ],
      "metadata": {
        "colab": {
          "base_uri": "https://localhost:8080/"
        },
        "id": "cvuCqxvjd3MP",
        "outputId": "3266d20f-be5f-4bd3-8d00-13abf4ff0c12"
      },
      "execution_count": 27,
      "outputs": [
        {
          "output_type": "stream",
          "name": "stdout",
          "text": [
            "+----+----------------+---------+-------+-------+--------+-----------+-------------+--------------+------+-----------------+\n",
            "|  id|            date|client_id|card_id| amount|use_chip|merchant_id|merchant_city|merchant_state|   zip|client_id_imputed|\n",
            "+----+----------------+---------+-------+-------+--------+-----------+-------------+--------------+------+-----------------+\n",
            "|  11|24-11-2024 14:30|   222222|  54321|$100.50|    true|      67890|     New York|            NY| 10001|           222222|\n",
            "|  22|24-11-2024 15:00|    12346|  54322|$200.00|   false|      67891|  Los Angeles|            CA| 90001|            12346|\n",
            "|  33|24-11-2024 16:15|    12347|  54323| $75.75|    true|      67892|      Chicago|            IL| 60601|            12347|\n",
            "|  44|24-11-2024 17:45|    12348|  54324|$150.25|   false|      67893|      Houston|            TX| 77001|            12348|\n",
            "|  55|24-11-2024 18:30|    12349|  54325| $50.00|    true|      67894|       Mumbai|            AZ| 85001|            12349|\n",
            "|NULL|            NULL|    12450|  54329|   NULL|   false|      67899|         Sion|            BU|400056|            12450|\n",
            "|NULL|            NULL|     NULL|  54655| $67.88|    true|      67888|      Andheri|            KL| 34257|            47343|\n",
            "+----+----------------+---------+-------+-------+--------+-----------+-------------+--------------+------+-----------------+\n",
            "\n"
          ]
        }
      ]
    },
    {
      "cell_type": "markdown",
      "source": [
        "# Performing Filtering Operations\n"
      ],
      "metadata": {
        "id": "ghObtbQ5wQrp"
      }
    },
    {
      "cell_type": "code",
      "source": [
        "df_utd = spark.read.csv(\"/content/ManUtd.csv\", header=True, inferSchema=True)\n",
        "df_utd.show()"
      ],
      "metadata": {
        "id": "ClZ0t6vhioQO",
        "colab": {
          "base_uri": "https://localhost:8080/"
        },
        "outputId": "97d277a6-43f4-4741-9b66-5cc2d7a1146c"
      },
      "execution_count": 28,
      "outputs": [
        {
          "output_type": "stream",
          "name": "stdout",
          "text": [
            "+--------+---+----+------+----------+\n",
            "|    Name|Age|Over| Wages|  Position|\n",
            "+--------+---+----+------+----------+\n",
            "|   Bruno| 29|  91|225000|Midfielder|\n",
            "|Casemiro| 31|  90|350000|Midfielder|\n",
            "|Rashford| 27|  86|350000|   Forward|\n",
            "|   Onana| 26|  85|220000|Goalkeeper|\n",
            "|  Ugarte| 25|  82|175000|Midfielder|\n",
            "|Garnacho| 21|  79|200000|   Forward|\n",
            "|    Amad| 22|  72|195000|   Forward|\n",
            "|Martinez| 26|  85|210000|  Defender|\n",
            "|Mazraoui| 26|  84|195000|  Defender|\n",
            "+--------+---+----+------+----------+\n",
            "\n"
          ]
        }
      ]
    },
    {
      "cell_type": "code",
      "source": [
        "# Wages less than 300000\n",
        "wages_filter = df_utd.filter(\"wages < 300000\").show()"
      ],
      "metadata": {
        "colab": {
          "base_uri": "https://localhost:8080/"
        },
        "id": "n5KpsTeWwLhw",
        "outputId": "7fb9b288-f4a8-45b7-890d-cb47785cdc2b"
      },
      "execution_count": 29,
      "outputs": [
        {
          "output_type": "stream",
          "name": "stdout",
          "text": [
            "+--------+---+----+------+----------+\n",
            "|    Name|Age|Over| Wages|  Position|\n",
            "+--------+---+----+------+----------+\n",
            "|   Bruno| 29|  91|225000|Midfielder|\n",
            "|   Onana| 26|  85|220000|Goalkeeper|\n",
            "|  Ugarte| 25|  82|175000|Midfielder|\n",
            "|Garnacho| 21|  79|200000|   Forward|\n",
            "|    Amad| 22|  72|195000|   Forward|\n",
            "|Martinez| 26|  85|210000|  Defender|\n",
            "|Mazraoui| 26|  84|195000|  Defender|\n",
            "+--------+---+----+------+----------+\n",
            "\n"
          ]
        }
      ]
    },
    {
      "cell_type": "code",
      "source": [
        "# Show all details except wages of people with less than 300000 wage\n",
        "wages_filter_except_wages = df_utd.filter(\"wages < 300000\").select(['Name', 'Over', 'Age']).show()\n",
        "\n",
        "# The output below shows that data in the table can be displayed as per users order of columns in select function"
      ],
      "metadata": {
        "colab": {
          "base_uri": "https://localhost:8080/"
        },
        "id": "C7icIHEQwpJT",
        "outputId": "4471a3b1-8bcd-459c-bbda-cb49e1fd5f8b"
      },
      "execution_count": 30,
      "outputs": [
        {
          "output_type": "stream",
          "name": "stdout",
          "text": [
            "+--------+----+---+\n",
            "|    Name|Over|Age|\n",
            "+--------+----+---+\n",
            "|   Bruno|  91| 29|\n",
            "|   Onana|  85| 26|\n",
            "|  Ugarte|  82| 25|\n",
            "|Garnacho|  79| 21|\n",
            "|    Amad|  72| 22|\n",
            "|Martinez|  85| 26|\n",
            "|Mazraoui|  84| 26|\n",
            "+--------+----+---+\n",
            "\n"
          ]
        }
      ]
    },
    {
      "cell_type": "code",
      "source": [
        "# Checking two conditions simultaneously\n",
        "two_conditions = df_utd.filter((df_utd['wages'] < 300000) & (df_utd['Age'] > 25)).show()"
      ],
      "metadata": {
        "colab": {
          "base_uri": "https://localhost:8080/"
        },
        "id": "f6AWxq08xTec",
        "outputId": "92540894-25be-42ce-aa9e-79202109f1fc"
      },
      "execution_count": 31,
      "outputs": [
        {
          "output_type": "stream",
          "name": "stdout",
          "text": [
            "+--------+---+----+------+----------+\n",
            "|    Name|Age|Over| Wages|  Position|\n",
            "+--------+---+----+------+----------+\n",
            "|   Bruno| 29|  91|225000|Midfielder|\n",
            "|   Onana| 26|  85|220000|Goalkeeper|\n",
            "|Martinez| 26|  85|210000|  Defender|\n",
            "|Mazraoui| 26|  84|195000|  Defender|\n",
            "+--------+---+----+------+----------+\n",
            "\n"
          ]
        }
      ]
    },
    {
      "cell_type": "markdown",
      "source": [
        "# GroupBy and Aggregate functions"
      ],
      "metadata": {
        "id": "NwysLSdz4QQv"
      }
    },
    {
      "cell_type": "code",
      "source": [
        "df_utd_updated = spark.read.csv(\"/content/ManUtd.csv\", header=True, inferSchema=True)\n",
        "df_utd_updated.show()"
      ],
      "metadata": {
        "colab": {
          "base_uri": "https://localhost:8080/"
        },
        "id": "EJ8qeLkIyGGL",
        "outputId": "1864bdb3-0a57-4341-925e-242a144a767f"
      },
      "execution_count": 32,
      "outputs": [
        {
          "output_type": "stream",
          "name": "stdout",
          "text": [
            "+--------+---+----+------+----------+\n",
            "|    Name|Age|Over| Wages|  Position|\n",
            "+--------+---+----+------+----------+\n",
            "|   Bruno| 29|  91|225000|Midfielder|\n",
            "|Casemiro| 31|  90|350000|Midfielder|\n",
            "|Rashford| 27|  86|350000|   Forward|\n",
            "|   Onana| 26|  85|220000|Goalkeeper|\n",
            "|  Ugarte| 25|  82|175000|Midfielder|\n",
            "|Garnacho| 21|  79|200000|   Forward|\n",
            "|    Amad| 22|  72|195000|   Forward|\n",
            "|Martinez| 26|  85|210000|  Defender|\n",
            "|Mazraoui| 26|  84|195000|  Defender|\n",
            "+--------+---+----+------+----------+\n",
            "\n"
          ]
        }
      ]
    },
    {
      "cell_type": "code",
      "source": [
        "# GroupBy Salary by position of players\n",
        "df_utd_updated.groupBy('Position').sum(\"Wages\").show()"
      ],
      "metadata": {
        "colab": {
          "base_uri": "https://localhost:8080/"
        },
        "id": "CCAaOx0N4iNN",
        "outputId": "90b17630-941e-46fa-9ac7-6080e5eb01af"
      },
      "execution_count": 33,
      "outputs": [
        {
          "output_type": "stream",
          "name": "stdout",
          "text": [
            "+----------+----------+\n",
            "|  Position|sum(Wages)|\n",
            "+----------+----------+\n",
            "|  Defender|    405000|\n",
            "|Goalkeeper|    220000|\n",
            "|   Forward|    745000|\n",
            "|Midfielder|    750000|\n",
            "+----------+----------+\n",
            "\n"
          ]
        }
      ]
    },
    {
      "cell_type": "code",
      "source": [
        "# GroupBy average Salary by position of players\n",
        "df_utd_updated.groupBy('Position').mean(\"Wages\").show()"
      ],
      "metadata": {
        "colab": {
          "base_uri": "https://localhost:8080/"
        },
        "id": "fwrkEGcR5H5H",
        "outputId": "4d78eec3-485a-440d-b40a-c4fb98efb7bd"
      },
      "execution_count": 34,
      "outputs": [
        {
          "output_type": "stream",
          "name": "stdout",
          "text": [
            "+----------+------------------+\n",
            "|  Position|        avg(Wages)|\n",
            "+----------+------------------+\n",
            "|  Defender|          202500.0|\n",
            "|Goalkeeper|          220000.0|\n",
            "|   Forward|248333.33333333334|\n",
            "|Midfielder|          250000.0|\n",
            "+----------+------------------+\n",
            "\n"
          ]
        }
      ]
    },
    {
      "cell_type": "code",
      "source": [
        "# GroupBy number of people in various positions\n",
        "df_utd_updated.groupBy('Position').count().show()"
      ],
      "metadata": {
        "colab": {
          "base_uri": "https://localhost:8080/"
        },
        "id": "gJTIkmrk5wJv",
        "outputId": "f99f0ee8-c285-409a-c544-f33c04789a0a"
      },
      "execution_count": 35,
      "outputs": [
        {
          "output_type": "stream",
          "name": "stdout",
          "text": [
            "+----------+-----+\n",
            "|  Position|count|\n",
            "+----------+-----+\n",
            "|  Defender|    2|\n",
            "|Goalkeeper|    1|\n",
            "|   Forward|    3|\n",
            "|Midfielder|    3|\n",
            "+----------+-----+\n",
            "\n"
          ]
        }
      ]
    },
    {
      "cell_type": "code",
      "source": [
        "# Highest paid player in each position\n",
        "from pyspark.sql import functions as F\n",
        "\n",
        "# Group by 'Position' and get the maximum wages per position\n",
        "max_wages_per_position = df_utd_updated.groupBy('Position').agg(F.max('Wages').alias('MaxWages'))\n",
        "\n",
        "# Join back to the original dataframe to get the corresponding player names\n",
        "result = df_utd_updated.alias('df').join(\n",
        "    max_wages_per_position.alias('max_df'),\n",
        "    (F.col('df.Position') == F.col('max_df.Position')) &\n",
        "    (F.col('df.Wages') == F.col('max_df.MaxWages'))\n",
        ").select(F.col('df.Position'), F.col('df.Name'), F.col('df.Wages'))\n",
        "\n",
        "result.show()"
      ],
      "metadata": {
        "colab": {
          "base_uri": "https://localhost:8080/"
        },
        "id": "vFewhsn56CIE",
        "outputId": "11a4a8b1-b457-4caf-e434-559b4d633f85"
      },
      "execution_count": 36,
      "outputs": [
        {
          "output_type": "stream",
          "name": "stdout",
          "text": [
            "+----------+--------+------+\n",
            "|  Position|    Name| Wages|\n",
            "+----------+--------+------+\n",
            "|Midfielder|Casemiro|350000|\n",
            "|   Forward|Rashford|350000|\n",
            "|Goalkeeper|   Onana|220000|\n",
            "|  Defender|Martinez|210000|\n",
            "+----------+--------+------+\n",
            "\n"
          ]
        }
      ]
    },
    {
      "cell_type": "markdown",
      "source": [
        "# MLlib"
      ],
      "metadata": {
        "id": "xGSWbm9k-ayP"
      }
    },
    {
      "cell_type": "code",
      "source": [
        "ml = spark.read.csv(\"/content/ManUtd.csv\", header=True, inferSchema=True)\n",
        "ml.show()"
      ],
      "metadata": {
        "colab": {
          "base_uri": "https://localhost:8080/"
        },
        "id": "E7Kfz2AC7AgH",
        "outputId": "90411088-d526-4fdc-881e-4f35dd32ec14"
      },
      "execution_count": 37,
      "outputs": [
        {
          "output_type": "stream",
          "name": "stdout",
          "text": [
            "+--------+---+----+------+----------+\n",
            "|    Name|Age|Over| Wages|  Position|\n",
            "+--------+---+----+------+----------+\n",
            "|   Bruno| 29|  91|225000|Midfielder|\n",
            "|Casemiro| 31|  90|350000|Midfielder|\n",
            "|Rashford| 27|  86|350000|   Forward|\n",
            "|   Onana| 26|  85|220000|Goalkeeper|\n",
            "|  Ugarte| 25|  82|175000|Midfielder|\n",
            "|Garnacho| 21|  79|200000|   Forward|\n",
            "|    Amad| 22|  72|195000|   Forward|\n",
            "|Martinez| 26|  85|210000|  Defender|\n",
            "|Mazraoui| 26|  84|195000|  Defender|\n",
            "+--------+---+----+------+----------+\n",
            "\n"
          ]
        }
      ]
    },
    {
      "cell_type": "code",
      "source": [
        "# Group columns with same data types together"
      ],
      "metadata": {
        "id": "fousKZF__bBj"
      },
      "execution_count": 38,
      "outputs": []
    },
    {
      "cell_type": "code",
      "source": [
        "from pyspark.ml.feature import VectorAssembler\n",
        "featureassembler = VectorAssembler(inputCols=[\"Age\", \"Over\"], outputCol=\"Independent Features\")"
      ],
      "metadata": {
        "id": "h1BtsGUK_hdH"
      },
      "execution_count": 39,
      "outputs": []
    },
    {
      "cell_type": "code",
      "source": [
        "output = featureassembler.transform(ml)"
      ],
      "metadata": {
        "id": "-tQ3v_SV_oeU"
      },
      "execution_count": 40,
      "outputs": []
    },
    {
      "cell_type": "code",
      "source": [
        "output.show()"
      ],
      "metadata": {
        "colab": {
          "base_uri": "https://localhost:8080/"
        },
        "id": "pu2_bPCb_8zq",
        "outputId": "3ec78944-1a7a-4b11-c334-8a485ec5725f"
      },
      "execution_count": 41,
      "outputs": [
        {
          "output_type": "stream",
          "name": "stdout",
          "text": [
            "+--------+---+----+------+----------+--------------------+\n",
            "|    Name|Age|Over| Wages|  Position|Independent Features|\n",
            "+--------+---+----+------+----------+--------------------+\n",
            "|   Bruno| 29|  91|225000|Midfielder|         [29.0,91.0]|\n",
            "|Casemiro| 31|  90|350000|Midfielder|         [31.0,90.0]|\n",
            "|Rashford| 27|  86|350000|   Forward|         [27.0,86.0]|\n",
            "|   Onana| 26|  85|220000|Goalkeeper|         [26.0,85.0]|\n",
            "|  Ugarte| 25|  82|175000|Midfielder|         [25.0,82.0]|\n",
            "|Garnacho| 21|  79|200000|   Forward|         [21.0,79.0]|\n",
            "|    Amad| 22|  72|195000|   Forward|         [22.0,72.0]|\n",
            "|Martinez| 26|  85|210000|  Defender|         [26.0,85.0]|\n",
            "|Mazraoui| 26|  84|195000|  Defender|         [26.0,84.0]|\n",
            "+--------+---+----+------+----------+--------------------+\n",
            "\n"
          ]
        }
      ]
    },
    {
      "cell_type": "code",
      "source": [
        "final_data = output.select(\"Independent Features\", \"Wages\")"
      ],
      "metadata": {
        "id": "fFgroA46ASjq"
      },
      "execution_count": 42,
      "outputs": []
    },
    {
      "cell_type": "code",
      "source": [
        "final_data.show()"
      ],
      "metadata": {
        "colab": {
          "base_uri": "https://localhost:8080/"
        },
        "id": "5RjV9_sIAiEP",
        "outputId": "ae1af154-453e-490a-fcc4-b9a498df9842"
      },
      "execution_count": 43,
      "outputs": [
        {
          "output_type": "stream",
          "name": "stdout",
          "text": [
            "+--------------------+------+\n",
            "|Independent Features| Wages|\n",
            "+--------------------+------+\n",
            "|         [29.0,91.0]|225000|\n",
            "|         [31.0,90.0]|350000|\n",
            "|         [27.0,86.0]|350000|\n",
            "|         [26.0,85.0]|220000|\n",
            "|         [25.0,82.0]|175000|\n",
            "|         [21.0,79.0]|200000|\n",
            "|         [22.0,72.0]|195000|\n",
            "|         [26.0,85.0]|210000|\n",
            "|         [26.0,84.0]|195000|\n",
            "+--------------------+------+\n",
            "\n"
          ]
        }
      ]
    },
    {
      "cell_type": "code",
      "source": [
        "# Train Test Split\n",
        "from pyspark.ml.regression import LinearRegression\n",
        "train_data, test_data = final_data.randomSplit([0.75, 0.25])\n",
        "regressor = LinearRegression(featuresCol=\"Independent Features\", labelCol=\"Wages\")\n",
        "regressor = regressor.fit(train_data)"
      ],
      "metadata": {
        "id": "Ged1ta32AkrI"
      },
      "execution_count": 44,
      "outputs": []
    },
    {
      "cell_type": "code",
      "source": [
        "regressor.coefficients"
      ],
      "metadata": {
        "colab": {
          "base_uri": "https://localhost:8080/"
        },
        "id": "F6wGjkSmBZLN",
        "outputId": "06c91087-5d1f-4f1a-8842-fcf96673d236"
      },
      "execution_count": 45,
      "outputs": [
        {
          "output_type": "execute_result",
          "data": {
            "text/plain": [
              "DenseVector([4497.6077, 2799.0431])"
            ]
          },
          "metadata": {},
          "execution_count": 45
        }
      ]
    },
    {
      "cell_type": "code",
      "source": [
        "regressor.intercept"
      ],
      "metadata": {
        "colab": {
          "base_uri": "https://localhost:8080/"
        },
        "id": "keTgW3XUBcTD",
        "outputId": "5b401cf2-0859-4baf-aa19-226e0d086717"
      },
      "execution_count": 46,
      "outputs": [
        {
          "output_type": "execute_result",
          "data": {
            "text/plain": [
              "-126124.40191369299"
            ]
          },
          "metadata": {},
          "execution_count": 46
        }
      ]
    },
    {
      "cell_type": "code",
      "source": [
        "prediction = regressor.evaluate(test_data)"
      ],
      "metadata": {
        "id": "Nj7Q1Y-jBgUY"
      },
      "execution_count": 47,
      "outputs": []
    },
    {
      "cell_type": "code",
      "source": [
        "prediction.predictions.show()"
      ],
      "metadata": {
        "colab": {
          "base_uri": "https://localhost:8080/"
        },
        "id": "ydUFyU3jBruA",
        "outputId": "139c020f-3891-408d-8df2-2013d310e981"
      },
      "execution_count": 48,
      "outputs": [
        {
          "output_type": "stream",
          "name": "stdout",
          "text": [
            "+--------------------+------+------------------+\n",
            "|Independent Features| Wages|        prediction|\n",
            "+--------------------+------+------------------+\n",
            "|         [22.0,72.0]|195000|174354.06698567368|\n",
            "|         [26.0,85.0]|220000|228732.05741626787|\n",
            "|         [31.0,90.0]|350000| 265215.3110047931|\n",
            "+--------------------+------+------------------+\n",
            "\n"
          ]
        }
      ]
    },
    {
      "cell_type": "code",
      "source": [
        "prediction.meanAbsoluteError, prediction.meanSquaredError, prediction.rootMeanSquaredError"
      ],
      "metadata": {
        "colab": {
          "base_uri": "https://localhost:8080/"
        },
        "id": "TIW4iLUUBwND",
        "outputId": "19749de0-c1a5-4c35-d6c7-795dafac7e44"
      },
      "execution_count": 49,
      "outputs": [
        {
          "output_type": "execute_result",
          "data": {
            "text/plain": [
              "(38054.22647526703, 2563648954.922335, 50632.48912429978)"
            ]
          },
          "metadata": {},
          "execution_count": 49
        }
      ]
    }
  ]
}